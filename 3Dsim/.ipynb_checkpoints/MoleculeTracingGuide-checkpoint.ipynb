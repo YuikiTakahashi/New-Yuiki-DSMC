{
 "cells": [
  {
   "cell_type": "code",
   "execution_count": 1,
   "metadata": {},
   "outputs": [],
   "source": [
    "import parSimClass as pc"
   ]
  },
  {
   "cell_type": "markdown",
   "metadata": {},
   "source": [
    "**`parSimClass`** contains the main simulation class, **`ParticleTracing()`**, of which we will create an instance to run molecule path-tracing simulations in a given type of cell geometry. When declaring a **`ParticleTracing()`** object we wish to specify the following important parameters:\n",
    "\n",
    "- **`flowFieldName`**: (string) the filename of the DSMC flow-field output, in the format _\"directory/../DS2xyyy.DAT'_. As described in the supporting document, the file name encodes both the geometry and flow-rate of the DSMC buffer gas simulation, so the file needs to be named in this format (sorry). \n",
    "\n",
    "\n",
    "- **`NPAR`**: (integer) the number of particles to simulate."
   ]
  },
  {
   "cell_type": "code",
   "execution_count": 2,
   "metadata": {},
   "outputs": [
    {
     "name": "stdout",
     "output_type": "stream",
     "text": [
      "Loading grids ... \n",
      "Interpolating ... Flow field loaded\n"
     ]
    }
   ],
   "source": [
    "simObject = pc.ParticleTracing(flowFieldName='flows/F_Cell/DS2f005.DAT', NPAR=1000)"
   ]
  },
  {
   "cell_type": "markdown",
   "metadata": {},
   "source": [
    "There are various other, less important attributes in a **`ParticleTracing()`** object that we could specify.\n",
    "\n",
    "- **`CROSS_MULT`**: (float) a multiplicative fine-tuning parameter which modifies the collision cross section of a helium atom w.r.t. one molecule of our species. The multiplier defaults to unity, and the reference value of the cross section is set at $\\sigma_{ref}=20\\cdot\\sigma_{He-He}$, i.e. 20 times the helium-helium cross section.\n",
    "\n",
    "\n",
    "- **`LITE_MODE`**: (bool) this flag defaults to `True`, whereby the simulation will not record the molecule's position in the output file UNTIL the molecule is sufficiently close to the cell aperture. In other words, if this flag is set to `False` the molecule position will be recorded at _every_ time-step, resulting in a much larger output file. \n",
    "\n",
    "\n",
    "- **`INIT_COND`**: (int) this parameter encodes the type of (pre-defined) initial conditions we would like to set for our molecules. The initial conditions might encode e.g. the region in the cell where the molecules are to start out, and the initial velocity distribution. These are hard-coded in the `ParticleTracing.initial_species_position()` and `ParticleTracing.initial_species_velocity()` methods. \n",
    "\n",
    "\n",
    "- **`CORRECTION`**: (int) this parameter specifies the kind of distribution we should use when generating inter-particle collision velocities. Currently defaults to `1`, indicating that the velocity distribution PDF has an \"extra\" factor of $v$ to account for the speed-dependence of the collision probability (see the reference document). If instead `CORRECTION=0` then an unbiased, \"uncorrected\" Maxwell-Boltzmann thermal distribution is used (this is the simplest/fastest distribution to draw from).  This dependence is hard-coded in `ParticleTracing.get_ambient_velocity()`."
   ]
  },
  {
   "cell_type": "markdown",
   "metadata": {},
   "source": [
    "For now we are using the default values for these \"optional\" parameters, and have only specified the flow field filename, `'flows/F_Cell/DS2f005.DAT'`, and the number of particles to simulate `NPAR=50` (this is just for example, we would typically want to simulate >1000 molecules).\n",
    "\n",
    "We have already declared our instance of the particle simulation class, `simObject`. We can now proceed to run a parallelized simulation for all (10) particles using the `ParticleTracing.parallel_main()` method. This function takes a single parameter `outfile`, which specifies an output file to write our results to.\n",
    "\n"
   ]
  },
  {
   "cell_type": "code",
   "execution_count": 3,
   "metadata": {},
   "outputs": [
    {
     "name": "stdout",
     "output_type": "stream",
     "text": [
      "[Parallel(n_jobs=-1)]: Using backend LokyBackend with 4 concurrent workers.\n",
      "[Parallel(n_jobs=-1)]: Done   1 tasks      | elapsed:   21.7s\n",
      "[Parallel(n_jobs=-1)]: Done   2 tasks      | elapsed:   25.2s\n",
      "[Parallel(n_jobs=-1)]: Done   3 tasks      | elapsed:   28.2s\n",
      "[Parallel(n_jobs=-1)]: Done   4 tasks      | elapsed:   36.0s\n",
      "[Parallel(n_jobs=-1)]: Done   5 tasks      | elapsed:   46.2s\n",
      "[Parallel(n_jobs=-1)]: Done   6 tasks      | elapsed:   49.3s\n",
      "[Parallel(n_jobs=-1)]: Done   7 tasks      | elapsed:   53.2s\n",
      "[Parallel(n_jobs=-1)]: Done   8 tasks      | elapsed:  1.1min\n",
      "[Parallel(n_jobs=-1)]: Done   9 tasks      | elapsed:  1.1min\n",
      "[Parallel(n_jobs=-1)]: Done  10 tasks      | elapsed:  1.2min\n",
      "[Parallel(n_jobs=-1)]: Done  11 tasks      | elapsed:  1.3min\n",
      "[Parallel(n_jobs=-1)]: Done  12 tasks      | elapsed:  1.3min\n",
      "[Parallel(n_jobs=-1)]: Done  13 tasks      | elapsed:  1.5min\n",
      "[Parallel(n_jobs=-1)]: Done  14 tasks      | elapsed:  1.6min\n",
      "[Parallel(n_jobs=-1)]: Done  15 tasks      | elapsed:  1.6min\n",
      "[Parallel(n_jobs=-1)]: Done  16 tasks      | elapsed:  1.7min\n",
      "[Parallel(n_jobs=-1)]: Done  17 tasks      | elapsed:  1.9min\n",
      "[Parallel(n_jobs=-1)]: Done  18 tasks      | elapsed:  2.0min\n",
      "[Parallel(n_jobs=-1)]: Done  19 tasks      | elapsed:  2.0min\n",
      "[Parallel(n_jobs=-1)]: Done  20 tasks      | elapsed:  2.0min\n",
      "[Parallel(n_jobs=-1)]: Done  21 tasks      | elapsed:  2.2min\n",
      "[Parallel(n_jobs=-1)]: Done  22 tasks      | elapsed:  2.3min\n",
      "[Parallel(n_jobs=-1)]: Done  23 tasks      | elapsed:  2.3min\n",
      "[Parallel(n_jobs=-1)]: Done  24 tasks      | elapsed:  2.4min\n",
      "[Parallel(n_jobs=-1)]: Done  25 tasks      | elapsed:  2.5min\n",
      "[Parallel(n_jobs=-1)]: Done  26 tasks      | elapsed:  2.5min\n",
      "[Parallel(n_jobs=-1)]: Done  27 tasks      | elapsed:  2.7min\n",
      "[Parallel(n_jobs=-1)]: Done  28 tasks      | elapsed:  2.7min\n",
      "[Parallel(n_jobs=-1)]: Done  29 tasks      | elapsed:  2.8min\n",
      "[Parallel(n_jobs=-1)]: Done  30 tasks      | elapsed:  2.8min\n",
      "[Parallel(n_jobs=-1)]: Done  31 tasks      | elapsed:  3.0min\n",
      "[Parallel(n_jobs=-1)]: Done  32 tasks      | elapsed:  3.0min\n",
      "[Parallel(n_jobs=-1)]: Done  33 tasks      | elapsed:  3.1min\n",
      "[Parallel(n_jobs=-1)]: Done  34 tasks      | elapsed:  3.1min\n",
      "[Parallel(n_jobs=-1)]: Done  35 tasks      | elapsed:  3.3min\n",
      "[Parallel(n_jobs=-1)]: Done  36 tasks      | elapsed:  3.3min\n",
      "[Parallel(n_jobs=-1)]: Done  37 tasks      | elapsed:  3.4min\n",
      "[Parallel(n_jobs=-1)]: Done  38 tasks      | elapsed:  3.5min\n",
      "[Parallel(n_jobs=-1)]: Done  39 tasks      | elapsed:  3.6min\n",
      "[Parallel(n_jobs=-1)]: Done  40 tasks      | elapsed:  3.7min\n",
      "[Parallel(n_jobs=-1)]: Done  41 tasks      | elapsed:  3.8min\n",
      "[Parallel(n_jobs=-1)]: Done  42 tasks      | elapsed:  3.9min\n",
      "[Parallel(n_jobs=-1)]: Done  43 tasks      | elapsed:  3.9min\n",
      "[Parallel(n_jobs=-1)]: Done  44 tasks      | elapsed:  4.0min\n",
      "[Parallel(n_jobs=-1)]: Done  45 tasks      | elapsed:  4.1min\n",
      "[Parallel(n_jobs=-1)]: Done  46 tasks      | elapsed:  4.2min\n",
      "[Parallel(n_jobs=-1)]: Done  47 tasks      | elapsed:  4.2min\n",
      "[Parallel(n_jobs=-1)]: Done  48 tasks      | elapsed:  4.4min\n",
      "[Parallel(n_jobs=-1)]: Done  49 tasks      | elapsed:  4.5min\n",
      "[Parallel(n_jobs=-1)]: Done  50 tasks      | elapsed:  4.5min\n",
      "[Parallel(n_jobs=-1)]: Done  51 tasks      | elapsed:  4.6min\n",
      "[Parallel(n_jobs=-1)]: Done  52 tasks      | elapsed:  4.8min\n",
      "[Parallel(n_jobs=-1)]: Done  53 tasks      | elapsed:  4.9min\n",
      "[Parallel(n_jobs=-1)]: Done  54 tasks      | elapsed:  5.0min\n",
      "[Parallel(n_jobs=-1)]: Done  55 tasks      | elapsed:  5.0min\n",
      "[Parallel(n_jobs=-1)]: Done  56 tasks      | elapsed:  5.2min\n",
      "[Parallel(n_jobs=-1)]: Done  57 tasks      | elapsed:  5.2min\n",
      "[Parallel(n_jobs=-1)]: Done  58 tasks      | elapsed:  5.4min\n",
      "[Parallel(n_jobs=-1)]: Done  59 tasks      | elapsed:  5.4min\n",
      "[Parallel(n_jobs=-1)]: Done  60 tasks      | elapsed:  5.5min\n",
      "[Parallel(n_jobs=-1)]: Done  61 tasks      | elapsed:  5.5min\n",
      "[Parallel(n_jobs=-1)]: Done  62 tasks      | elapsed:  5.7min\n",
      "[Parallel(n_jobs=-1)]: Done  63 tasks      | elapsed:  5.8min\n",
      "[Parallel(n_jobs=-1)]: Done  64 tasks      | elapsed:  5.9min\n",
      "[Parallel(n_jobs=-1)]: Done  65 tasks      | elapsed:  6.0min\n",
      "[Parallel(n_jobs=-1)]: Done  66 tasks      | elapsed:  6.1min\n",
      "[Parallel(n_jobs=-1)]: Done  67 tasks      | elapsed:  6.1min\n",
      "[Parallel(n_jobs=-1)]: Done  68 tasks      | elapsed:  6.4min\n",
      "[Parallel(n_jobs=-1)]: Done  69 tasks      | elapsed:  6.4min\n",
      "[Parallel(n_jobs=-1)]: Done  70 tasks      | elapsed:  6.5min\n",
      "[Parallel(n_jobs=-1)]: Done  71 tasks      | elapsed:  6.5min\n",
      "[Parallel(n_jobs=-1)]: Done  72 tasks      | elapsed:  6.7min\n",
      "[Parallel(n_jobs=-1)]: Done  73 tasks      | elapsed:  6.8min\n",
      "[Parallel(n_jobs=-1)]: Done  74 tasks      | elapsed:  6.9min\n",
      "[Parallel(n_jobs=-1)]: Done  75 tasks      | elapsed:  7.0min\n",
      "[Parallel(n_jobs=-1)]: Done  76 tasks      | elapsed:  7.1min\n",
      "[Parallel(n_jobs=-1)]: Done  77 tasks      | elapsed:  7.2min\n",
      "[Parallel(n_jobs=-1)]: Done  78 tasks      | elapsed:  7.2min\n",
      "[Parallel(n_jobs=-1)]: Done  79 tasks      | elapsed:  7.4min\n",
      "[Parallel(n_jobs=-1)]: Done  80 tasks      | elapsed:  7.5min\n",
      "[Parallel(n_jobs=-1)]: Done  81 tasks      | elapsed:  7.5min\n",
      "[Parallel(n_jobs=-1)]: Done  82 tasks      | elapsed:  7.6min\n",
      "[Parallel(n_jobs=-1)]: Done  83 tasks      | elapsed:  7.6min\n",
      "[Parallel(n_jobs=-1)]: Done  84 tasks      | elapsed:  7.8min\n",
      "[Parallel(n_jobs=-1)]: Done  85 tasks      | elapsed:  7.9min\n",
      "[Parallel(n_jobs=-1)]: Done  86 tasks      | elapsed:  8.0min\n",
      "[Parallel(n_jobs=-1)]: Done  87 tasks      | elapsed:  8.1min\n",
      "[Parallel(n_jobs=-1)]: Done  88 tasks      | elapsed:  8.3min\n",
      "[Parallel(n_jobs=-1)]: Done  89 tasks      | elapsed:  8.4min\n",
      "[Parallel(n_jobs=-1)]: Done  90 tasks      | elapsed:  8.4min\n",
      "[Parallel(n_jobs=-1)]: Done  91 tasks      | elapsed:  8.6min\n",
      "[Parallel(n_jobs=-1)]: Done  92 tasks      | elapsed:  8.6min\n",
      "[Parallel(n_jobs=-1)]: Done  93 tasks      | elapsed:  8.7min\n",
      "[Parallel(n_jobs=-1)]: Done  94 tasks      | elapsed:  8.9min\n",
      "[Parallel(n_jobs=-1)]: Done  95 tasks      | elapsed:  9.0min\n",
      "[Parallel(n_jobs=-1)]: Done  96 tasks      | elapsed:  9.2min\n",
      "[Parallel(n_jobs=-1)]: Done  97 tasks      | elapsed:  9.2min\n",
      "[Parallel(n_jobs=-1)]: Done  98 tasks      | elapsed:  9.3min\n",
      "[Parallel(n_jobs=-1)]: Done  99 tasks      | elapsed:  9.4min\n",
      "[Parallel(n_jobs=-1)]: Done 100 tasks      | elapsed:  9.6min\n",
      "[Parallel(n_jobs=-1)]: Done 101 tasks      | elapsed:  9.7min\n",
      "[Parallel(n_jobs=-1)]: Done 102 tasks      | elapsed:  9.7min\n",
      "[Parallel(n_jobs=-1)]: Done 103 tasks      | elapsed:  9.8min\n",
      "[Parallel(n_jobs=-1)]: Done 104 tasks      | elapsed: 10.0min\n",
      "[Parallel(n_jobs=-1)]: Done 105 tasks      | elapsed: 10.0min\n",
      "[Parallel(n_jobs=-1)]: Done 106 tasks      | elapsed: 10.2min\n",
      "[Parallel(n_jobs=-1)]: Done 107 tasks      | elapsed: 10.4min\n",
      "[Parallel(n_jobs=-1)]: Done 108 tasks      | elapsed: 10.4min\n",
      "[Parallel(n_jobs=-1)]: Done 109 tasks      | elapsed: 10.5min\n",
      "[Parallel(n_jobs=-1)]: Done 110 tasks      | elapsed: 10.5min\n",
      "[Parallel(n_jobs=-1)]: Done 111 tasks      | elapsed: 10.7min\n",
      "[Parallel(n_jobs=-1)]: Done 112 tasks      | elapsed: 10.8min\n",
      "[Parallel(n_jobs=-1)]: Done 113 tasks      | elapsed: 11.0min\n",
      "[Parallel(n_jobs=-1)]: Done 114 tasks      | elapsed: 11.0min\n",
      "[Parallel(n_jobs=-1)]: Done 115 tasks      | elapsed: 11.1min\n",
      "[Parallel(n_jobs=-1)]: Done 116 tasks      | elapsed: 11.1min\n",
      "[Parallel(n_jobs=-1)]: Done 117 tasks      | elapsed: 11.3min\n",
      "[Parallel(n_jobs=-1)]: Done 118 tasks      | elapsed: 11.5min\n",
      "[Parallel(n_jobs=-1)]: Done 119 tasks      | elapsed: 11.5min\n",
      "[Parallel(n_jobs=-1)]: Done 120 tasks      | elapsed: 11.5min\n",
      "[Parallel(n_jobs=-1)]: Done 121 tasks      | elapsed: 11.7min\n",
      "[Parallel(n_jobs=-1)]: Done 122 tasks      | elapsed: 11.8min\n",
      "[Parallel(n_jobs=-1)]: Done 123 tasks      | elapsed: 11.8min\n",
      "[Parallel(n_jobs=-1)]: Done 124 tasks      | elapsed: 12.0min\n",
      "[Parallel(n_jobs=-1)]: Done 125 tasks      | elapsed: 12.0min\n",
      "[Parallel(n_jobs=-1)]: Done 126 tasks      | elapsed: 12.1min\n",
      "[Parallel(n_jobs=-1)]: Done 127 tasks      | elapsed: 12.2min\n",
      "[Parallel(n_jobs=-1)]: Done 128 tasks      | elapsed: 12.4min\n",
      "[Parallel(n_jobs=-1)]: Done 129 tasks      | elapsed: 12.4min\n",
      "[Parallel(n_jobs=-1)]: Done 130 tasks      | elapsed: 12.4min\n",
      "[Parallel(n_jobs=-1)]: Done 131 tasks      | elapsed: 12.4min\n"
     ]
    },
    {
     "name": "stdout",
     "output_type": "stream",
     "text": [
      "[Parallel(n_jobs=-1)]: Done 132 tasks      | elapsed: 12.6min\n",
      "[Parallel(n_jobs=-1)]: Done 133 tasks      | elapsed: 12.7min\n",
      "[Parallel(n_jobs=-1)]: Done 134 tasks      | elapsed: 12.8min\n",
      "[Parallel(n_jobs=-1)]: Done 135 tasks      | elapsed: 12.9min\n",
      "[Parallel(n_jobs=-1)]: Done 136 tasks      | elapsed: 12.9min\n",
      "[Parallel(n_jobs=-1)]: Done 137 tasks      | elapsed: 13.0min\n",
      "[Parallel(n_jobs=-1)]: Done 138 tasks      | elapsed: 13.3min\n",
      "[Parallel(n_jobs=-1)]: Done 139 tasks      | elapsed: 13.4min\n",
      "[Parallel(n_jobs=-1)]: Done 140 tasks      | elapsed: 13.4min\n",
      "[Parallel(n_jobs=-1)]: Done 141 tasks      | elapsed: 13.4min\n",
      "[Parallel(n_jobs=-1)]: Done 142 tasks      | elapsed: 13.7min\n",
      "[Parallel(n_jobs=-1)]: Done 143 tasks      | elapsed: 13.8min\n",
      "[Parallel(n_jobs=-1)]: Done 144 tasks      | elapsed: 13.8min\n",
      "[Parallel(n_jobs=-1)]: Done 145 tasks      | elapsed: 13.9min\n",
      "[Parallel(n_jobs=-1)]: Done 146 tasks      | elapsed: 14.2min\n",
      "[Parallel(n_jobs=-1)]: Done 147 tasks      | elapsed: 14.2min\n",
      "[Parallel(n_jobs=-1)]: Done 148 tasks      | elapsed: 14.3min\n",
      "[Parallel(n_jobs=-1)]: Done 149 tasks      | elapsed: 14.3min\n",
      "[Parallel(n_jobs=-1)]: Done 150 tasks      | elapsed: 14.4min\n",
      "[Parallel(n_jobs=-1)]: Done 151 tasks      | elapsed: 14.6min\n",
      "[Parallel(n_jobs=-1)]: Done 152 tasks      | elapsed: 14.6min\n",
      "[Parallel(n_jobs=-1)]: Done 153 tasks      | elapsed: 14.7min\n",
      "[Parallel(n_jobs=-1)]: Done 154 tasks      | elapsed: 14.9min\n",
      "[Parallel(n_jobs=-1)]: Done 155 tasks      | elapsed: 15.0min\n",
      "[Parallel(n_jobs=-1)]: Done 156 tasks      | elapsed: 15.1min\n",
      "[Parallel(n_jobs=-1)]: Done 157 tasks      | elapsed: 15.2min\n",
      "[Parallel(n_jobs=-1)]: Done 158 tasks      | elapsed: 15.4min\n",
      "[Parallel(n_jobs=-1)]: Done 159 tasks      | elapsed: 15.6min\n",
      "[Parallel(n_jobs=-1)]: Done 160 tasks      | elapsed: 15.7min\n",
      "[Parallel(n_jobs=-1)]: Done 161 tasks      | elapsed: 15.8min\n",
      "[Parallel(n_jobs=-1)]: Done 162 tasks      | elapsed: 15.8min\n",
      "[Parallel(n_jobs=-1)]: Done 163 tasks      | elapsed: 16.0min\n",
      "[Parallel(n_jobs=-1)]: Done 164 tasks      | elapsed: 16.1min\n",
      "[Parallel(n_jobs=-1)]: Done 165 tasks      | elapsed: 16.2min\n",
      "[Parallel(n_jobs=-1)]: Done 166 tasks      | elapsed: 16.2min\n",
      "[Parallel(n_jobs=-1)]: Done 167 tasks      | elapsed: 16.4min\n",
      "[Parallel(n_jobs=-1)]: Done 168 tasks      | elapsed: 16.5min\n",
      "[Parallel(n_jobs=-1)]: Done 169 tasks      | elapsed: 16.6min\n",
      "[Parallel(n_jobs=-1)]: Done 170 tasks      | elapsed: 16.7min\n",
      "[Parallel(n_jobs=-1)]: Done 171 tasks      | elapsed: 16.8min\n",
      "[Parallel(n_jobs=-1)]: Done 172 tasks      | elapsed: 17.0min\n",
      "[Parallel(n_jobs=-1)]: Done 173 tasks      | elapsed: 17.0min\n",
      "[Parallel(n_jobs=-1)]: Done 174 tasks      | elapsed: 17.1min\n",
      "[Parallel(n_jobs=-1)]: Done 175 tasks      | elapsed: 17.2min\n",
      "[Parallel(n_jobs=-1)]: Done 176 tasks      | elapsed: 17.2min\n",
      "[Parallel(n_jobs=-1)]: Done 177 tasks      | elapsed: 17.3min\n",
      "[Parallel(n_jobs=-1)]: Done 178 tasks      | elapsed: 17.4min\n",
      "[Parallel(n_jobs=-1)]: Done 179 tasks      | elapsed: 17.5min\n",
      "[Parallel(n_jobs=-1)]: Done 180 tasks      | elapsed: 17.5min\n",
      "[Parallel(n_jobs=-1)]: Done 181 tasks      | elapsed: 17.6min\n",
      "[Parallel(n_jobs=-1)]: Done 182 tasks      | elapsed: 17.8min\n",
      "[Parallel(n_jobs=-1)]: Done 183 tasks      | elapsed: 17.9min\n",
      "[Parallel(n_jobs=-1)]: Done 184 tasks      | elapsed: 17.9min\n",
      "[Parallel(n_jobs=-1)]: Done 185 tasks      | elapsed: 17.9min\n",
      "[Parallel(n_jobs=-1)]: Done 186 tasks      | elapsed: 18.3min\n",
      "[Parallel(n_jobs=-1)]: Done 187 tasks      | elapsed: 18.3min\n",
      "[Parallel(n_jobs=-1)]: Done 188 tasks      | elapsed: 18.3min\n",
      "[Parallel(n_jobs=-1)]: Done 189 tasks      | elapsed: 18.3min\n",
      "[Parallel(n_jobs=-1)]: Done 190 tasks      | elapsed: 18.6min\n",
      "[Parallel(n_jobs=-1)]: Done 191 tasks      | elapsed: 18.6min\n",
      "[Parallel(n_jobs=-1)]: Done 192 tasks      | elapsed: 18.7min\n",
      "[Parallel(n_jobs=-1)]: Done 193 tasks      | elapsed: 18.7min\n",
      "[Parallel(n_jobs=-1)]: Done 194 tasks      | elapsed: 18.9min\n",
      "[Parallel(n_jobs=-1)]: Done 195 tasks      | elapsed: 19.0min\n",
      "[Parallel(n_jobs=-1)]: Done 196 tasks      | elapsed: 19.1min\n",
      "[Parallel(n_jobs=-1)]: Done 197 tasks      | elapsed: 19.1min\n",
      "[Parallel(n_jobs=-1)]: Done 198 tasks      | elapsed: 19.1min\n",
      "[Parallel(n_jobs=-1)]: Done 199 tasks      | elapsed: 19.4min\n",
      "[Parallel(n_jobs=-1)]: Done 200 tasks      | elapsed: 19.4min\n",
      "[Parallel(n_jobs=-1)]: Done 201 tasks      | elapsed: 19.4min\n",
      "[Parallel(n_jobs=-1)]: Done 202 tasks      | elapsed: 19.5min\n",
      "[Parallel(n_jobs=-1)]: Done 203 tasks      | elapsed: 19.6min\n",
      "[Parallel(n_jobs=-1)]: Done 204 tasks      | elapsed: 19.7min\n",
      "[Parallel(n_jobs=-1)]: Done 205 tasks      | elapsed: 19.8min\n",
      "[Parallel(n_jobs=-1)]: Done 206 tasks      | elapsed: 19.8min\n",
      "[Parallel(n_jobs=-1)]: Done 207 tasks      | elapsed: 20.0min\n",
      "[Parallel(n_jobs=-1)]: Done 208 tasks      | elapsed: 20.1min\n",
      "[Parallel(n_jobs=-1)]: Done 209 tasks      | elapsed: 20.1min\n",
      "[Parallel(n_jobs=-1)]: Done 210 tasks      | elapsed: 20.2min\n",
      "[Parallel(n_jobs=-1)]: Done 211 tasks      | elapsed: 20.4min\n",
      "[Parallel(n_jobs=-1)]: Done 212 tasks      | elapsed: 20.5min\n",
      "[Parallel(n_jobs=-1)]: Done 213 tasks      | elapsed: 20.5min\n",
      "[Parallel(n_jobs=-1)]: Done 214 tasks      | elapsed: 20.6min\n",
      "[Parallel(n_jobs=-1)]: Done 215 tasks      | elapsed: 20.7min\n",
      "[Parallel(n_jobs=-1)]: Done 216 tasks      | elapsed: 20.9min\n",
      "[Parallel(n_jobs=-1)]: Done 217 tasks      | elapsed: 21.0min\n",
      "[Parallel(n_jobs=-1)]: Done 218 tasks      | elapsed: 21.1min\n",
      "[Parallel(n_jobs=-1)]: Done 219 tasks      | elapsed: 21.2min\n",
      "[Parallel(n_jobs=-1)]: Done 220 tasks      | elapsed: 21.2min\n",
      "[Parallel(n_jobs=-1)]: Done 221 tasks      | elapsed: 21.4min\n",
      "[Parallel(n_jobs=-1)]: Done 222 tasks      | elapsed: 21.5min\n",
      "[Parallel(n_jobs=-1)]: Done 223 tasks      | elapsed: 21.5min\n",
      "[Parallel(n_jobs=-1)]: Done 224 tasks      | elapsed: 21.6min\n",
      "[Parallel(n_jobs=-1)]: Done 225 tasks      | elapsed: 21.7min\n",
      "[Parallel(n_jobs=-1)]: Done 226 tasks      | elapsed: 21.9min\n",
      "[Parallel(n_jobs=-1)]: Done 227 tasks      | elapsed: 21.9min\n",
      "[Parallel(n_jobs=-1)]: Done 228 tasks      | elapsed: 21.9min\n",
      "[Parallel(n_jobs=-1)]: Done 229 tasks      | elapsed: 22.0min\n",
      "[Parallel(n_jobs=-1)]: Done 230 tasks      | elapsed: 22.0min\n",
      "[Parallel(n_jobs=-1)]: Done 231 tasks      | elapsed: 22.4min\n",
      "[Parallel(n_jobs=-1)]: Done 232 tasks      | elapsed: 22.4min\n",
      "[Parallel(n_jobs=-1)]: Done 233 tasks      | elapsed: 22.5min\n",
      "[Parallel(n_jobs=-1)]: Done 234 tasks      | elapsed: 22.7min\n",
      "[Parallel(n_jobs=-1)]: Done 235 tasks      | elapsed: 22.8min\n",
      "[Parallel(n_jobs=-1)]: Done 236 tasks      | elapsed: 22.9min\n",
      "[Parallel(n_jobs=-1)]: Done 237 tasks      | elapsed: 23.0min\n",
      "[Parallel(n_jobs=-1)]: Done 238 tasks      | elapsed: 23.1min\n",
      "[Parallel(n_jobs=-1)]: Done 239 tasks      | elapsed: 23.1min\n",
      "[Parallel(n_jobs=-1)]: Done 240 tasks      | elapsed: 23.3min\n",
      "[Parallel(n_jobs=-1)]: Done 241 tasks      | elapsed: 23.3min\n",
      "[Parallel(n_jobs=-1)]: Done 242 tasks      | elapsed: 23.4min\n",
      "[Parallel(n_jobs=-1)]: Done 243 tasks      | elapsed: 23.5min\n",
      "[Parallel(n_jobs=-1)]: Done 244 tasks      | elapsed: 23.6min\n",
      "[Parallel(n_jobs=-1)]: Done 245 tasks      | elapsed: 23.7min\n",
      "[Parallel(n_jobs=-1)]: Done 246 tasks      | elapsed: 23.8min\n",
      "[Parallel(n_jobs=-1)]: Done 247 tasks      | elapsed: 23.8min\n",
      "[Parallel(n_jobs=-1)]: Done 248 tasks      | elapsed: 24.0min\n",
      "[Parallel(n_jobs=-1)]: Done 249 tasks      | elapsed: 24.2min\n",
      "[Parallel(n_jobs=-1)]: Done 250 tasks      | elapsed: 24.3min\n",
      "[Parallel(n_jobs=-1)]: Done 251 tasks      | elapsed: 24.3min\n",
      "[Parallel(n_jobs=-1)]: Done 252 tasks      | elapsed: 24.5min\n",
      "[Parallel(n_jobs=-1)]: Done 253 tasks      | elapsed: 24.5min\n",
      "[Parallel(n_jobs=-1)]: Done 254 tasks      | elapsed: 24.7min\n",
      "[Parallel(n_jobs=-1)]: Done 255 tasks      | elapsed: 24.7min\n",
      "[Parallel(n_jobs=-1)]: Done 256 tasks      | elapsed: 24.8min\n",
      "[Parallel(n_jobs=-1)]: Done 257 tasks      | elapsed: 24.9min\n",
      "[Parallel(n_jobs=-1)]: Done 258 tasks      | elapsed: 25.0min\n",
      "[Parallel(n_jobs=-1)]: Done 259 tasks      | elapsed: 25.1min\n",
      "[Parallel(n_jobs=-1)]: Done 260 tasks      | elapsed: 25.1min\n",
      "[Parallel(n_jobs=-1)]: Done 261 tasks      | elapsed: 25.3min\n",
      "[Parallel(n_jobs=-1)]: Done 262 tasks      | elapsed: 25.3min\n",
      "[Parallel(n_jobs=-1)]: Done 263 tasks      | elapsed: 25.5min\n",
      "[Parallel(n_jobs=-1)]: Done 264 tasks      | elapsed: 25.6min\n"
     ]
    },
    {
     "name": "stdout",
     "output_type": "stream",
     "text": [
      "[Parallel(n_jobs=-1)]: Done 265 tasks      | elapsed: 25.6min\n",
      "[Parallel(n_jobs=-1)]: Done 266 tasks      | elapsed: 25.7min\n",
      "[Parallel(n_jobs=-1)]: Done 267 tasks      | elapsed: 25.8min\n",
      "[Parallel(n_jobs=-1)]: Done 268 tasks      | elapsed: 26.0min\n",
      "[Parallel(n_jobs=-1)]: Done 269 tasks      | elapsed: 26.0min\n",
      "[Parallel(n_jobs=-1)]: Done 270 tasks      | elapsed: 26.1min\n",
      "[Parallel(n_jobs=-1)]: Done 271 tasks      | elapsed: 26.2min\n",
      "[Parallel(n_jobs=-1)]: Done 272 tasks      | elapsed: 26.3min\n",
      "[Parallel(n_jobs=-1)]: Done 273 tasks      | elapsed: 26.3min\n",
      "[Parallel(n_jobs=-1)]: Done 274 tasks      | elapsed: 26.4min\n",
      "[Parallel(n_jobs=-1)]: Done 275 tasks      | elapsed: 26.4min\n",
      "[Parallel(n_jobs=-1)]: Done 276 tasks      | elapsed: 26.5min\n",
      "[Parallel(n_jobs=-1)]: Done 277 tasks      | elapsed: 26.7min\n",
      "[Parallel(n_jobs=-1)]: Done 278 tasks      | elapsed: 26.7min\n",
      "[Parallel(n_jobs=-1)]: Done 279 tasks      | elapsed: 26.8min\n",
      "[Parallel(n_jobs=-1)]: Done 280 tasks      | elapsed: 26.9min\n",
      "[Parallel(n_jobs=-1)]: Done 281 tasks      | elapsed: 27.0min\n",
      "[Parallel(n_jobs=-1)]: Done 282 tasks      | elapsed: 27.1min\n",
      "[Parallel(n_jobs=-1)]: Done 283 tasks      | elapsed: 27.1min\n",
      "[Parallel(n_jobs=-1)]: Done 284 tasks      | elapsed: 27.1min\n",
      "[Parallel(n_jobs=-1)]: Done 285 tasks      | elapsed: 27.3min\n",
      "[Parallel(n_jobs=-1)]: Done 286 tasks      | elapsed: 27.3min\n",
      "[Parallel(n_jobs=-1)]: Done 287 tasks      | elapsed: 27.4min\n",
      "[Parallel(n_jobs=-1)]: Done 288 tasks      | elapsed: 27.5min\n",
      "[Parallel(n_jobs=-1)]: Done 289 tasks      | elapsed: 27.5min\n",
      "[Parallel(n_jobs=-1)]: Done 290 tasks      | elapsed: 27.6min\n",
      "[Parallel(n_jobs=-1)]: Done 291 tasks      | elapsed: 27.7min\n",
      "[Parallel(n_jobs=-1)]: Done 292 tasks      | elapsed: 27.8min\n",
      "[Parallel(n_jobs=-1)]: Done 293 tasks      | elapsed: 27.8min\n",
      "[Parallel(n_jobs=-1)]: Done 294 tasks      | elapsed: 27.9min\n",
      "[Parallel(n_jobs=-1)]: Done 295 tasks      | elapsed: 28.0min\n",
      "[Parallel(n_jobs=-1)]: Done 296 tasks      | elapsed: 28.1min\n",
      "[Parallel(n_jobs=-1)]: Done 297 tasks      | elapsed: 28.2min\n",
      "[Parallel(n_jobs=-1)]: Done 298 tasks      | elapsed: 28.3min\n",
      "[Parallel(n_jobs=-1)]: Done 299 tasks      | elapsed: 28.4min\n",
      "[Parallel(n_jobs=-1)]: Done 300 tasks      | elapsed: 28.5min\n",
      "[Parallel(n_jobs=-1)]: Done 301 tasks      | elapsed: 28.6min\n",
      "[Parallel(n_jobs=-1)]: Done 302 tasks      | elapsed: 28.6min\n",
      "[Parallel(n_jobs=-1)]: Done 303 tasks      | elapsed: 28.8min\n",
      "[Parallel(n_jobs=-1)]: Done 304 tasks      | elapsed: 28.8min\n",
      "[Parallel(n_jobs=-1)]: Done 305 tasks      | elapsed: 28.9min\n",
      "[Parallel(n_jobs=-1)]: Done 306 tasks      | elapsed: 29.0min\n",
      "[Parallel(n_jobs=-1)]: Done 307 tasks      | elapsed: 29.0min\n",
      "[Parallel(n_jobs=-1)]: Done 308 tasks      | elapsed: 29.2min\n",
      "[Parallel(n_jobs=-1)]: Done 309 tasks      | elapsed: 29.2min\n",
      "[Parallel(n_jobs=-1)]: Done 310 tasks      | elapsed: 29.4min\n",
      "[Parallel(n_jobs=-1)]: Done 311 tasks      | elapsed: 29.4min\n",
      "[Parallel(n_jobs=-1)]: Done 312 tasks      | elapsed: 29.4min\n",
      "[Parallel(n_jobs=-1)]: Done 313 tasks      | elapsed: 29.5min\n",
      "[Parallel(n_jobs=-1)]: Done 314 tasks      | elapsed: 29.6min\n",
      "[Parallel(n_jobs=-1)]: Done 315 tasks      | elapsed: 29.6min\n",
      "[Parallel(n_jobs=-1)]: Done 316 tasks      | elapsed: 29.7min\n",
      "[Parallel(n_jobs=-1)]: Done 317 tasks      | elapsed: 29.8min\n",
      "[Parallel(n_jobs=-1)]: Done 318 tasks      | elapsed: 29.9min\n",
      "[Parallel(n_jobs=-1)]: Done 319 tasks      | elapsed: 30.0min\n",
      "[Parallel(n_jobs=-1)]: Done 320 tasks      | elapsed: 30.0min\n",
      "[Parallel(n_jobs=-1)]: Done 321 tasks      | elapsed: 30.1min\n",
      "[Parallel(n_jobs=-1)]: Done 322 tasks      | elapsed: 30.3min\n",
      "[Parallel(n_jobs=-1)]: Done 323 tasks      | elapsed: 30.3min\n",
      "[Parallel(n_jobs=-1)]: Done 324 tasks      | elapsed: 30.4min\n",
      "[Parallel(n_jobs=-1)]: Done 325 tasks      | elapsed: 30.6min\n",
      "[Parallel(n_jobs=-1)]: Done 326 tasks      | elapsed: 30.6min\n",
      "[Parallel(n_jobs=-1)]: Done 327 tasks      | elapsed: 30.6min\n",
      "[Parallel(n_jobs=-1)]: Done 328 tasks      | elapsed: 30.7min\n",
      "[Parallel(n_jobs=-1)]: Done 329 tasks      | elapsed: 30.8min\n",
      "[Parallel(n_jobs=-1)]: Done 330 tasks      | elapsed: 30.9min\n",
      "[Parallel(n_jobs=-1)]: Done 331 tasks      | elapsed: 31.0min\n",
      "[Parallel(n_jobs=-1)]: Done 332 tasks      | elapsed: 31.0min\n",
      "[Parallel(n_jobs=-1)]: Done 333 tasks      | elapsed: 31.2min\n",
      "[Parallel(n_jobs=-1)]: Done 334 tasks      | elapsed: 31.3min\n",
      "[Parallel(n_jobs=-1)]: Done 335 tasks      | elapsed: 31.3min\n",
      "[Parallel(n_jobs=-1)]: Done 336 tasks      | elapsed: 31.6min\n",
      "[Parallel(n_jobs=-1)]: Done 337 tasks      | elapsed: 31.6min\n",
      "[Parallel(n_jobs=-1)]: Done 338 tasks      | elapsed: 31.7min\n",
      "[Parallel(n_jobs=-1)]: Done 339 tasks      | elapsed: 31.7min\n",
      "[Parallel(n_jobs=-1)]: Done 340 tasks      | elapsed: 31.9min\n",
      "[Parallel(n_jobs=-1)]: Done 341 tasks      | elapsed: 32.0min\n",
      "[Parallel(n_jobs=-1)]: Done 342 tasks      | elapsed: 32.1min\n",
      "[Parallel(n_jobs=-1)]: Done 343 tasks      | elapsed: 32.1min\n",
      "[Parallel(n_jobs=-1)]: Done 344 tasks      | elapsed: 32.3min\n",
      "[Parallel(n_jobs=-1)]: Done 345 tasks      | elapsed: 32.4min\n",
      "[Parallel(n_jobs=-1)]: Done 346 tasks      | elapsed: 32.4min\n",
      "[Parallel(n_jobs=-1)]: Done 347 tasks      | elapsed: 32.4min\n",
      "[Parallel(n_jobs=-1)]: Done 348 tasks      | elapsed: 32.6min\n",
      "[Parallel(n_jobs=-1)]: Done 349 tasks      | elapsed: 32.7min\n",
      "[Parallel(n_jobs=-1)]: Done 350 tasks      | elapsed: 32.7min\n",
      "[Parallel(n_jobs=-1)]: Done 351 tasks      | elapsed: 32.8min\n",
      "[Parallel(n_jobs=-1)]: Done 352 tasks      | elapsed: 32.9min\n",
      "[Parallel(n_jobs=-1)]: Done 353 tasks      | elapsed: 33.0min\n",
      "[Parallel(n_jobs=-1)]: Done 354 tasks      | elapsed: 33.0min\n",
      "[Parallel(n_jobs=-1)]: Done 355 tasks      | elapsed: 33.2min\n",
      "[Parallel(n_jobs=-1)]: Done 356 tasks      | elapsed: 33.2min\n",
      "[Parallel(n_jobs=-1)]: Done 357 tasks      | elapsed: 33.3min\n",
      "[Parallel(n_jobs=-1)]: Done 358 tasks      | elapsed: 33.4min\n",
      "[Parallel(n_jobs=-1)]: Done 359 tasks      | elapsed: 33.5min\n",
      "[Parallel(n_jobs=-1)]: Done 360 tasks      | elapsed: 33.5min\n",
      "[Parallel(n_jobs=-1)]: Done 361 tasks      | elapsed: 33.5min\n",
      "[Parallel(n_jobs=-1)]: Done 362 tasks      | elapsed: 33.6min\n",
      "[Parallel(n_jobs=-1)]: Done 363 tasks      | elapsed: 33.7min\n",
      "[Parallel(n_jobs=-1)]: Done 364 tasks      | elapsed: 33.9min\n",
      "[Parallel(n_jobs=-1)]: Done 365 tasks      | elapsed: 33.9min\n",
      "[Parallel(n_jobs=-1)]: Done 366 tasks      | elapsed: 34.0min\n",
      "[Parallel(n_jobs=-1)]: Done 367 tasks      | elapsed: 34.1min\n",
      "[Parallel(n_jobs=-1)]: Done 368 tasks      | elapsed: 34.1min\n",
      "[Parallel(n_jobs=-1)]: Done 369 tasks      | elapsed: 34.3min\n",
      "[Parallel(n_jobs=-1)]: Done 370 tasks      | elapsed: 34.4min\n",
      "[Parallel(n_jobs=-1)]: Done 371 tasks      | elapsed: 34.4min\n",
      "[Parallel(n_jobs=-1)]: Done 372 tasks      | elapsed: 34.7min\n",
      "[Parallel(n_jobs=-1)]: Done 373 tasks      | elapsed: 34.7min\n",
      "[Parallel(n_jobs=-1)]: Done 374 tasks      | elapsed: 34.8min\n",
      "[Parallel(n_jobs=-1)]: Done 375 tasks      | elapsed: 34.9min\n",
      "[Parallel(n_jobs=-1)]: Done 376 tasks      | elapsed: 34.9min\n",
      "[Parallel(n_jobs=-1)]: Done 377 tasks      | elapsed: 35.1min\n",
      "[Parallel(n_jobs=-1)]: Done 378 tasks      | elapsed: 35.2min\n",
      "[Parallel(n_jobs=-1)]: Done 379 tasks      | elapsed: 35.3min\n",
      "[Parallel(n_jobs=-1)]: Done 380 tasks      | elapsed: 35.3min\n",
      "[Parallel(n_jobs=-1)]: Done 381 tasks      | elapsed: 35.5min\n",
      "[Parallel(n_jobs=-1)]: Done 382 tasks      | elapsed: 35.5min\n",
      "[Parallel(n_jobs=-1)]: Done 383 tasks      | elapsed: 35.6min\n",
      "[Parallel(n_jobs=-1)]: Done 384 tasks      | elapsed: 35.7min\n",
      "[Parallel(n_jobs=-1)]: Done 385 tasks      | elapsed: 35.7min\n",
      "[Parallel(n_jobs=-1)]: Done 386 tasks      | elapsed: 35.8min\n",
      "[Parallel(n_jobs=-1)]: Done 387 tasks      | elapsed: 35.9min\n",
      "[Parallel(n_jobs=-1)]: Done 388 tasks      | elapsed: 35.9min\n",
      "[Parallel(n_jobs=-1)]: Done 389 tasks      | elapsed: 36.0min\n",
      "[Parallel(n_jobs=-1)]: Done 390 tasks      | elapsed: 36.2min\n",
      "[Parallel(n_jobs=-1)]: Done 391 tasks      | elapsed: 36.3min\n",
      "[Parallel(n_jobs=-1)]: Done 392 tasks      | elapsed: 36.3min\n",
      "[Parallel(n_jobs=-1)]: Done 393 tasks      | elapsed: 36.3min\n",
      "[Parallel(n_jobs=-1)]: Done 394 tasks      | elapsed: 36.5min\n",
      "[Parallel(n_jobs=-1)]: Done 395 tasks      | elapsed: 36.6min\n",
      "[Parallel(n_jobs=-1)]: Done 396 tasks      | elapsed: 36.7min\n",
      "[Parallel(n_jobs=-1)]: Done 397 tasks      | elapsed: 36.7min\n"
     ]
    },
    {
     "name": "stdout",
     "output_type": "stream",
     "text": [
      "[Parallel(n_jobs=-1)]: Done 398 tasks      | elapsed: 36.8min\n",
      "[Parallel(n_jobs=-1)]: Done 399 tasks      | elapsed: 36.9min\n",
      "[Parallel(n_jobs=-1)]: Done 400 tasks      | elapsed: 37.1min\n",
      "[Parallel(n_jobs=-1)]: Done 401 tasks      | elapsed: 37.2min\n",
      "[Parallel(n_jobs=-1)]: Done 402 tasks      | elapsed: 37.2min\n",
      "[Parallel(n_jobs=-1)]: Done 403 tasks      | elapsed: 37.3min\n",
      "[Parallel(n_jobs=-1)]: Done 404 tasks      | elapsed: 37.6min\n",
      "[Parallel(n_jobs=-1)]: Done 405 tasks      | elapsed: 37.6min\n",
      "[Parallel(n_jobs=-1)]: Done 406 tasks      | elapsed: 37.7min\n",
      "[Parallel(n_jobs=-1)]: Done 407 tasks      | elapsed: 37.7min\n",
      "[Parallel(n_jobs=-1)]: Done 408 tasks      | elapsed: 37.9min\n",
      "[Parallel(n_jobs=-1)]: Done 409 tasks      | elapsed: 37.9min\n",
      "[Parallel(n_jobs=-1)]: Done 410 tasks      | elapsed: 37.9min\n",
      "[Parallel(n_jobs=-1)]: Done 411 tasks      | elapsed: 38.0min\n",
      "[Parallel(n_jobs=-1)]: Done 412 tasks      | elapsed: 38.2min\n",
      "[Parallel(n_jobs=-1)]: Done 413 tasks      | elapsed: 38.2min\n",
      "[Parallel(n_jobs=-1)]: Done 414 tasks      | elapsed: 38.2min\n",
      "[Parallel(n_jobs=-1)]: Done 415 tasks      | elapsed: 38.4min\n",
      "[Parallel(n_jobs=-1)]: Done 416 tasks      | elapsed: 38.5min\n",
      "[Parallel(n_jobs=-1)]: Done 417 tasks      | elapsed: 38.6min\n",
      "[Parallel(n_jobs=-1)]: Done 418 tasks      | elapsed: 38.8min\n",
      "[Parallel(n_jobs=-1)]: Done 419 tasks      | elapsed: 38.9min\n",
      "[Parallel(n_jobs=-1)]: Done 420 tasks      | elapsed: 39.0min\n",
      "[Parallel(n_jobs=-1)]: Done 421 tasks      | elapsed: 39.2min\n",
      "[Parallel(n_jobs=-1)]: Done 422 tasks      | elapsed: 39.2min\n",
      "[Parallel(n_jobs=-1)]: Done 423 tasks      | elapsed: 39.6min\n",
      "[Parallel(n_jobs=-1)]: Done 424 tasks      | elapsed: 39.6min\n",
      "[Parallel(n_jobs=-1)]: Done 425 tasks      | elapsed: 39.6min\n",
      "[Parallel(n_jobs=-1)]: Done 426 tasks      | elapsed: 39.6min\n",
      "[Parallel(n_jobs=-1)]: Done 427 tasks      | elapsed: 40.0min\n",
      "[Parallel(n_jobs=-1)]: Done 428 tasks      | elapsed: 40.1min\n",
      "[Parallel(n_jobs=-1)]: Done 429 tasks      | elapsed: 40.2min\n",
      "[Parallel(n_jobs=-1)]: Done 430 tasks      | elapsed: 40.4min\n",
      "[Parallel(n_jobs=-1)]: Done 431 tasks      | elapsed: 40.4min\n",
      "[Parallel(n_jobs=-1)]: Done 432 tasks      | elapsed: 40.5min\n",
      "[Parallel(n_jobs=-1)]: Done 433 tasks      | elapsed: 40.7min\n",
      "[Parallel(n_jobs=-1)]: Done 434 tasks      | elapsed: 40.8min\n",
      "[Parallel(n_jobs=-1)]: Done 435 tasks      | elapsed: 40.9min\n",
      "[Parallel(n_jobs=-1)]: Done 436 tasks      | elapsed: 41.1min\n",
      "[Parallel(n_jobs=-1)]: Done 437 tasks      | elapsed: 41.2min\n",
      "[Parallel(n_jobs=-1)]: Done 438 tasks      | elapsed: 41.3min\n",
      "[Parallel(n_jobs=-1)]: Done 439 tasks      | elapsed: 41.3min\n",
      "[Parallel(n_jobs=-1)]: Done 440 tasks      | elapsed: 41.6min\n",
      "[Parallel(n_jobs=-1)]: Done 441 tasks      | elapsed: 41.7min\n",
      "[Parallel(n_jobs=-1)]: Done 442 tasks      | elapsed: 41.7min\n",
      "[Parallel(n_jobs=-1)]: Done 443 tasks      | elapsed: 41.8min\n",
      "[Parallel(n_jobs=-1)]: Done 444 tasks      | elapsed: 42.0min\n",
      "[Parallel(n_jobs=-1)]: Done 445 tasks      | elapsed: 42.1min\n",
      "[Parallel(n_jobs=-1)]: Done 446 tasks      | elapsed: 42.1min\n",
      "[Parallel(n_jobs=-1)]: Done 447 tasks      | elapsed: 42.2min\n",
      "[Parallel(n_jobs=-1)]: Done 448 tasks      | elapsed: 42.4min\n",
      "[Parallel(n_jobs=-1)]: Done 449 tasks      | elapsed: 42.4min\n",
      "[Parallel(n_jobs=-1)]: Done 450 tasks      | elapsed: 42.5min\n",
      "[Parallel(n_jobs=-1)]: Done 451 tasks      | elapsed: 42.6min\n",
      "[Parallel(n_jobs=-1)]: Done 452 tasks      | elapsed: 42.6min\n",
      "[Parallel(n_jobs=-1)]: Done 453 tasks      | elapsed: 42.7min\n",
      "[Parallel(n_jobs=-1)]: Done 454 tasks      | elapsed: 42.8min\n",
      "[Parallel(n_jobs=-1)]: Done 455 tasks      | elapsed: 43.0min\n",
      "[Parallel(n_jobs=-1)]: Done 456 tasks      | elapsed: 43.0min\n",
      "[Parallel(n_jobs=-1)]: Done 457 tasks      | elapsed: 43.1min\n",
      "[Parallel(n_jobs=-1)]: Done 458 tasks      | elapsed: 43.1min\n",
      "[Parallel(n_jobs=-1)]: Done 459 tasks      | elapsed: 43.3min\n",
      "[Parallel(n_jobs=-1)]: Done 460 tasks      | elapsed: 43.5min\n",
      "[Parallel(n_jobs=-1)]: Done 461 tasks      | elapsed: 43.6min\n",
      "[Parallel(n_jobs=-1)]: Done 462 tasks      | elapsed: 43.6min\n",
      "[Parallel(n_jobs=-1)]: Done 463 tasks      | elapsed: 43.7min\n",
      "[Parallel(n_jobs=-1)]: Done 464 tasks      | elapsed: 43.9min\n",
      "[Parallel(n_jobs=-1)]: Done 465 tasks      | elapsed: 44.0min\n",
      "[Parallel(n_jobs=-1)]: Done 466 tasks      | elapsed: 44.1min\n",
      "[Parallel(n_jobs=-1)]: Done 467 tasks      | elapsed: 44.1min\n",
      "[Parallel(n_jobs=-1)]: Done 468 tasks      | elapsed: 44.2min\n",
      "[Parallel(n_jobs=-1)]: Done 469 tasks      | elapsed: 44.3min\n",
      "[Parallel(n_jobs=-1)]: Done 470 tasks      | elapsed: 44.4min\n",
      "[Parallel(n_jobs=-1)]: Done 471 tasks      | elapsed: 44.5min\n",
      "[Parallel(n_jobs=-1)]: Done 472 tasks      | elapsed: 44.6min\n",
      "[Parallel(n_jobs=-1)]: Done 473 tasks      | elapsed: 44.8min\n",
      "[Parallel(n_jobs=-1)]: Done 474 tasks      | elapsed: 45.0min\n",
      "[Parallel(n_jobs=-1)]: Done 475 tasks      | elapsed: 45.0min\n",
      "[Parallel(n_jobs=-1)]: Done 476 tasks      | elapsed: 45.1min\n",
      "[Parallel(n_jobs=-1)]: Done 477 tasks      | elapsed: 45.1min\n",
      "[Parallel(n_jobs=-1)]: Done 478 tasks      | elapsed: 45.4min\n",
      "[Parallel(n_jobs=-1)]: Done 479 tasks      | elapsed: 45.4min\n",
      "[Parallel(n_jobs=-1)]: Done 480 tasks      | elapsed: 45.5min\n",
      "[Parallel(n_jobs=-1)]: Done 481 tasks      | elapsed: 45.5min\n",
      "[Parallel(n_jobs=-1)]: Done 482 tasks      | elapsed: 45.8min\n",
      "[Parallel(n_jobs=-1)]: Done 483 tasks      | elapsed: 45.8min\n",
      "[Parallel(n_jobs=-1)]: Done 484 tasks      | elapsed: 45.8min\n",
      "[Parallel(n_jobs=-1)]: Done 485 tasks      | elapsed: 46.1min\n",
      "[Parallel(n_jobs=-1)]: Done 486 tasks      | elapsed: 46.1min\n",
      "[Parallel(n_jobs=-1)]: Done 487 tasks      | elapsed: 46.1min\n",
      "[Parallel(n_jobs=-1)]: Done 488 tasks      | elapsed: 46.1min\n",
      "[Parallel(n_jobs=-1)]: Done 489 tasks      | elapsed: 46.5min\n",
      "[Parallel(n_jobs=-1)]: Done 490 tasks      | elapsed: 46.5min\n",
      "[Parallel(n_jobs=-1)]: Done 491 tasks      | elapsed: 46.5min\n",
      "[Parallel(n_jobs=-1)]: Done 492 tasks      | elapsed: 46.6min\n",
      "[Parallel(n_jobs=-1)]: Done 493 tasks      | elapsed: 46.9min\n",
      "[Parallel(n_jobs=-1)]: Done 494 tasks      | elapsed: 47.0min\n",
      "[Parallel(n_jobs=-1)]: Done 495 tasks      | elapsed: 47.0min\n",
      "[Parallel(n_jobs=-1)]: Done 496 tasks      | elapsed: 47.1min\n",
      "[Parallel(n_jobs=-1)]: Done 497 tasks      | elapsed: 47.3min\n",
      "[Parallel(n_jobs=-1)]: Done 498 tasks      | elapsed: 47.4min\n",
      "[Parallel(n_jobs=-1)]: Done 499 tasks      | elapsed: 47.4min\n",
      "[Parallel(n_jobs=-1)]: Done 500 tasks      | elapsed: 47.5min\n",
      "[Parallel(n_jobs=-1)]: Done 501 tasks      | elapsed: 47.7min\n",
      "[Parallel(n_jobs=-1)]: Done 502 tasks      | elapsed: 47.8min\n",
      "[Parallel(n_jobs=-1)]: Done 503 tasks      | elapsed: 47.8min\n",
      "[Parallel(n_jobs=-1)]: Done 504 tasks      | elapsed: 47.8min\n",
      "[Parallel(n_jobs=-1)]: Done 505 tasks      | elapsed: 48.0min\n",
      "[Parallel(n_jobs=-1)]: Done 506 tasks      | elapsed: 48.3min\n",
      "[Parallel(n_jobs=-1)]: Done 507 tasks      | elapsed: 48.3min\n",
      "[Parallel(n_jobs=-1)]: Done 508 tasks      | elapsed: 48.4min\n",
      "[Parallel(n_jobs=-1)]: Done 509 tasks      | elapsed: 48.4min\n",
      "[Parallel(n_jobs=-1)]: Done 510 tasks      | elapsed: 48.6min\n",
      "[Parallel(n_jobs=-1)]: Done 511 tasks      | elapsed: 48.7min\n",
      "[Parallel(n_jobs=-1)]: Done 512 tasks      | elapsed: 48.7min\n",
      "[Parallel(n_jobs=-1)]: Done 513 tasks      | elapsed: 48.8min\n",
      "[Parallel(n_jobs=-1)]: Done 514 tasks      | elapsed: 49.0min\n",
      "[Parallel(n_jobs=-1)]: Done 515 tasks      | elapsed: 49.0min\n",
      "[Parallel(n_jobs=-1)]: Done 516 tasks      | elapsed: 49.1min\n",
      "[Parallel(n_jobs=-1)]: Done 517 tasks      | elapsed: 49.3min\n",
      "[Parallel(n_jobs=-1)]: Done 518 tasks      | elapsed: 49.3min\n",
      "[Parallel(n_jobs=-1)]: Done 519 tasks      | elapsed: 49.4min\n",
      "[Parallel(n_jobs=-1)]: Done 520 tasks      | elapsed: 49.6min\n",
      "[Parallel(n_jobs=-1)]: Done 521 tasks      | elapsed: 49.6min\n",
      "[Parallel(n_jobs=-1)]: Done 522 tasks      | elapsed: 49.7min\n",
      "[Parallel(n_jobs=-1)]: Done 523 tasks      | elapsed: 49.8min\n",
      "[Parallel(n_jobs=-1)]: Done 524 tasks      | elapsed: 49.9min\n",
      "[Parallel(n_jobs=-1)]: Done 525 tasks      | elapsed: 50.0min\n",
      "[Parallel(n_jobs=-1)]: Done 526 tasks      | elapsed: 50.0min\n",
      "[Parallel(n_jobs=-1)]: Done 527 tasks      | elapsed: 50.2min\n",
      "[Parallel(n_jobs=-1)]: Done 528 tasks      | elapsed: 50.3min\n",
      "[Parallel(n_jobs=-1)]: Done 529 tasks      | elapsed: 50.4min\n",
      "[Parallel(n_jobs=-1)]: Done 530 tasks      | elapsed: 50.6min\n"
     ]
    },
    {
     "name": "stdout",
     "output_type": "stream",
     "text": [
      "[Parallel(n_jobs=-1)]: Done 531 tasks      | elapsed: 50.7min\n",
      "[Parallel(n_jobs=-1)]: Done 532 tasks      | elapsed: 50.7min\n",
      "[Parallel(n_jobs=-1)]: Done 533 tasks      | elapsed: 50.8min\n",
      "[Parallel(n_jobs=-1)]: Done 534 tasks      | elapsed: 51.0min\n",
      "[Parallel(n_jobs=-1)]: Done 535 tasks      | elapsed: 51.1min\n",
      "[Parallel(n_jobs=-1)]: Done 536 tasks      | elapsed: 51.3min\n",
      "[Parallel(n_jobs=-1)]: Done 537 tasks      | elapsed: 51.4min\n",
      "[Parallel(n_jobs=-1)]: Done 538 tasks      | elapsed: 51.5min\n",
      "[Parallel(n_jobs=-1)]: Done 539 tasks      | elapsed: 51.5min\n",
      "[Parallel(n_jobs=-1)]: Done 540 tasks      | elapsed: 51.8min\n",
      "[Parallel(n_jobs=-1)]: Done 541 tasks      | elapsed: 51.9min\n",
      "[Parallel(n_jobs=-1)]: Done 542 tasks      | elapsed: 52.0min\n",
      "[Parallel(n_jobs=-1)]: Done 543 tasks      | elapsed: 52.0min\n",
      "[Parallel(n_jobs=-1)]: Done 544 tasks      | elapsed: 52.3min\n",
      "[Parallel(n_jobs=-1)]: Done 545 tasks      | elapsed: 52.5min\n",
      "[Parallel(n_jobs=-1)]: Done 546 tasks      | elapsed: 52.6min\n",
      "[Parallel(n_jobs=-1)]: Done 547 tasks      | elapsed: 52.6min\n",
      "[Parallel(n_jobs=-1)]: Done 548 tasks      | elapsed: 52.9min\n",
      "[Parallel(n_jobs=-1)]: Done 549 tasks      | elapsed: 52.9min\n",
      "[Parallel(n_jobs=-1)]: Done 550 tasks      | elapsed: 52.9min\n",
      "[Parallel(n_jobs=-1)]: Done 551 tasks      | elapsed: 53.1min\n",
      "[Parallel(n_jobs=-1)]: Done 552 tasks      | elapsed: 53.3min\n",
      "[Parallel(n_jobs=-1)]: Done 553 tasks      | elapsed: 53.4min\n",
      "[Parallel(n_jobs=-1)]: Done 554 tasks      | elapsed: 53.6min\n",
      "[Parallel(n_jobs=-1)]: Done 555 tasks      | elapsed: 53.7min\n",
      "[Parallel(n_jobs=-1)]: Done 556 tasks      | elapsed: 53.7min\n",
      "[Parallel(n_jobs=-1)]: Done 557 tasks      | elapsed: 53.8min\n",
      "[Parallel(n_jobs=-1)]: Done 558 tasks      | elapsed: 54.1min\n",
      "[Parallel(n_jobs=-1)]: Done 559 tasks      | elapsed: 54.1min\n",
      "[Parallel(n_jobs=-1)]: Done 560 tasks      | elapsed: 54.2min\n",
      "[Parallel(n_jobs=-1)]: Done 561 tasks      | elapsed: 54.2min\n",
      "[Parallel(n_jobs=-1)]: Done 562 tasks      | elapsed: 54.3min\n",
      "[Parallel(n_jobs=-1)]: Done 563 tasks      | elapsed: 54.5min\n",
      "[Parallel(n_jobs=-1)]: Done 564 tasks      | elapsed: 54.5min\n",
      "[Parallel(n_jobs=-1)]: Done 565 tasks      | elapsed: 54.5min\n",
      "[Parallel(n_jobs=-1)]: Done 566 tasks      | elapsed: 54.5min\n",
      "[Parallel(n_jobs=-1)]: Done 567 tasks      | elapsed: 54.7min\n",
      "[Parallel(n_jobs=-1)]: Done 568 tasks      | elapsed: 54.8min\n",
      "[Parallel(n_jobs=-1)]: Done 569 tasks      | elapsed: 54.9min\n",
      "[Parallel(n_jobs=-1)]: Done 570 tasks      | elapsed: 54.9min\n",
      "[Parallel(n_jobs=-1)]: Done 571 tasks      | elapsed: 55.1min\n",
      "[Parallel(n_jobs=-1)]: Done 572 tasks      | elapsed: 55.1min\n",
      "[Parallel(n_jobs=-1)]: Done 573 tasks      | elapsed: 55.2min\n",
      "[Parallel(n_jobs=-1)]: Done 574 tasks      | elapsed: 55.3min\n",
      "[Parallel(n_jobs=-1)]: Done 575 tasks      | elapsed: 55.5min\n",
      "[Parallel(n_jobs=-1)]: Done 576 tasks      | elapsed: 55.5min\n",
      "[Parallel(n_jobs=-1)]: Done 577 tasks      | elapsed: 55.5min\n",
      "[Parallel(n_jobs=-1)]: Done 578 tasks      | elapsed: 55.6min\n",
      "[Parallel(n_jobs=-1)]: Done 579 tasks      | elapsed: 55.7min\n",
      "[Parallel(n_jobs=-1)]: Done 580 tasks      | elapsed: 55.9min\n",
      "[Parallel(n_jobs=-1)]: Done 581 tasks      | elapsed: 56.0min\n",
      "[Parallel(n_jobs=-1)]: Done 582 tasks      | elapsed: 56.0min\n",
      "[Parallel(n_jobs=-1)]: Done 583 tasks      | elapsed: 56.0min\n",
      "[Parallel(n_jobs=-1)]: Done 584 tasks      | elapsed: 56.3min\n",
      "[Parallel(n_jobs=-1)]: Done 585 tasks      | elapsed: 56.3min\n",
      "[Parallel(n_jobs=-1)]: Done 586 tasks      | elapsed: 56.3min\n",
      "[Parallel(n_jobs=-1)]: Done 587 tasks      | elapsed: 56.5min\n",
      "[Parallel(n_jobs=-1)]: Done 588 tasks      | elapsed: 56.6min\n",
      "[Parallel(n_jobs=-1)]: Done 589 tasks      | elapsed: 56.7min\n",
      "[Parallel(n_jobs=-1)]: Done 590 tasks      | elapsed: 56.7min\n",
      "[Parallel(n_jobs=-1)]: Done 591 tasks      | elapsed: 56.9min\n",
      "[Parallel(n_jobs=-1)]: Done 592 tasks      | elapsed: 57.0min\n",
      "[Parallel(n_jobs=-1)]: Done 593 tasks      | elapsed: 57.1min\n",
      "[Parallel(n_jobs=-1)]: Done 594 tasks      | elapsed: 57.1min\n",
      "[Parallel(n_jobs=-1)]: Done 595 tasks      | elapsed: 57.4min\n",
      "[Parallel(n_jobs=-1)]: Done 596 tasks      | elapsed: 57.4min\n",
      "[Parallel(n_jobs=-1)]: Done 597 tasks      | elapsed: 57.4min\n",
      "[Parallel(n_jobs=-1)]: Done 598 tasks      | elapsed: 57.6min\n",
      "[Parallel(n_jobs=-1)]: Done 599 tasks      | elapsed: 57.6min\n",
      "[Parallel(n_jobs=-1)]: Done 600 tasks      | elapsed: 57.8min\n",
      "[Parallel(n_jobs=-1)]: Done 601 tasks      | elapsed: 57.8min\n",
      "[Parallel(n_jobs=-1)]: Done 602 tasks      | elapsed: 57.9min\n",
      "[Parallel(n_jobs=-1)]: Done 603 tasks      | elapsed: 58.0min\n",
      "[Parallel(n_jobs=-1)]: Done 604 tasks      | elapsed: 58.1min\n",
      "[Parallel(n_jobs=-1)]: Done 605 tasks      | elapsed: 58.3min\n",
      "[Parallel(n_jobs=-1)]: Done 606 tasks      | elapsed: 58.4min\n",
      "[Parallel(n_jobs=-1)]: Done 607 tasks      | elapsed: 58.5min\n",
      "[Parallel(n_jobs=-1)]: Done 608 tasks      | elapsed: 58.6min\n",
      "[Parallel(n_jobs=-1)]: Done 609 tasks      | elapsed: 58.7min\n",
      "[Parallel(n_jobs=-1)]: Done 610 tasks      | elapsed: 58.8min\n",
      "[Parallel(n_jobs=-1)]: Done 611 tasks      | elapsed: 58.9min\n",
      "[Parallel(n_jobs=-1)]: Done 612 tasks      | elapsed: 59.0min\n",
      "[Parallel(n_jobs=-1)]: Done 613 tasks      | elapsed: 59.2min\n",
      "[Parallel(n_jobs=-1)]: Done 614 tasks      | elapsed: 59.3min\n",
      "[Parallel(n_jobs=-1)]: Done 615 tasks      | elapsed: 59.6min\n",
      "[Parallel(n_jobs=-1)]: Done 616 tasks      | elapsed: 59.7min\n",
      "[Parallel(n_jobs=-1)]: Done 617 tasks      | elapsed: 59.7min\n",
      "[Parallel(n_jobs=-1)]: Done 618 tasks      | elapsed: 59.7min\n",
      "[Parallel(n_jobs=-1)]: Done 619 tasks      | elapsed: 59.9min\n",
      "[Parallel(n_jobs=-1)]: Done 620 tasks      | elapsed: 59.9min\n",
      "[Parallel(n_jobs=-1)]: Done 621 tasks      | elapsed: 60.0min\n",
      "[Parallel(n_jobs=-1)]: Done 622 tasks      | elapsed: 60.0min\n",
      "[Parallel(n_jobs=-1)]: Done 623 tasks      | elapsed: 60.1min\n",
      "[Parallel(n_jobs=-1)]: Done 624 tasks      | elapsed: 60.2min\n",
      "[Parallel(n_jobs=-1)]: Done 625 tasks      | elapsed: 60.3min\n",
      "[Parallel(n_jobs=-1)]: Done 626 tasks      | elapsed: 60.3min\n",
      "[Parallel(n_jobs=-1)]: Done 627 tasks      | elapsed: 60.3min\n",
      "[Parallel(n_jobs=-1)]: Done 628 tasks      | elapsed: 60.4min\n",
      "[Parallel(n_jobs=-1)]: Done 629 tasks      | elapsed: 60.5min\n",
      "[Parallel(n_jobs=-1)]: Done 630 tasks      | elapsed: 60.5min\n",
      "[Parallel(n_jobs=-1)]: Done 631 tasks      | elapsed: 60.6min\n",
      "[Parallel(n_jobs=-1)]: Done 632 tasks      | elapsed: 60.6min\n",
      "[Parallel(n_jobs=-1)]: Done 633 tasks      | elapsed: 60.6min\n",
      "[Parallel(n_jobs=-1)]: Done 634 tasks      | elapsed: 60.7min\n",
      "[Parallel(n_jobs=-1)]: Done 635 tasks      | elapsed: 60.7min\n",
      "[Parallel(n_jobs=-1)]: Done 636 tasks      | elapsed: 60.8min\n",
      "[Parallel(n_jobs=-1)]: Done 637 tasks      | elapsed: 60.8min\n",
      "[Parallel(n_jobs=-1)]: Done 638 tasks      | elapsed: 60.8min\n",
      "[Parallel(n_jobs=-1)]: Done 639 tasks      | elapsed: 60.9min\n",
      "[Parallel(n_jobs=-1)]: Done 640 tasks      | elapsed: 61.0min\n",
      "[Parallel(n_jobs=-1)]: Done 641 tasks      | elapsed: 61.0min\n",
      "[Parallel(n_jobs=-1)]: Done 642 tasks      | elapsed: 61.0min\n",
      "[Parallel(n_jobs=-1)]: Done 643 tasks      | elapsed: 61.0min\n",
      "[Parallel(n_jobs=-1)]: Done 644 tasks      | elapsed: 61.0min\n",
      "[Parallel(n_jobs=-1)]: Done 645 tasks      | elapsed: 61.2min\n",
      "[Parallel(n_jobs=-1)]: Done 646 tasks      | elapsed: 61.2min\n",
      "[Parallel(n_jobs=-1)]: Done 647 tasks      | elapsed: 61.2min\n",
      "[Parallel(n_jobs=-1)]: Done 648 tasks      | elapsed: 61.2min\n",
      "[Parallel(n_jobs=-1)]: Done 649 tasks      | elapsed: 61.3min\n",
      "[Parallel(n_jobs=-1)]: Done 650 tasks      | elapsed: 61.4min\n",
      "[Parallel(n_jobs=-1)]: Done 651 tasks      | elapsed: 61.4min\n",
      "[Parallel(n_jobs=-1)]: Done 652 tasks      | elapsed: 61.5min\n",
      "[Parallel(n_jobs=-1)]: Done 653 tasks      | elapsed: 61.5min\n",
      "[Parallel(n_jobs=-1)]: Done 654 tasks      | elapsed: 61.5min\n",
      "[Parallel(n_jobs=-1)]: Done 655 tasks      | elapsed: 61.6min\n",
      "[Parallel(n_jobs=-1)]: Done 656 tasks      | elapsed: 61.6min\n",
      "[Parallel(n_jobs=-1)]: Done 657 tasks      | elapsed: 61.7min\n",
      "[Parallel(n_jobs=-1)]: Done 658 tasks      | elapsed: 61.7min\n",
      "[Parallel(n_jobs=-1)]: Done 659 tasks      | elapsed: 61.8min\n",
      "[Parallel(n_jobs=-1)]: Done 660 tasks      | elapsed: 61.8min\n",
      "[Parallel(n_jobs=-1)]: Done 661 tasks      | elapsed: 61.9min\n",
      "[Parallel(n_jobs=-1)]: Done 662 tasks      | elapsed: 61.9min\n",
      "[Parallel(n_jobs=-1)]: Done 663 tasks      | elapsed: 62.0min\n"
     ]
    },
    {
     "name": "stdout",
     "output_type": "stream",
     "text": [
      "[Parallel(n_jobs=-1)]: Done 664 tasks      | elapsed: 62.0min\n",
      "[Parallel(n_jobs=-1)]: Done 665 tasks      | elapsed: 62.0min\n",
      "[Parallel(n_jobs=-1)]: Done 666 tasks      | elapsed: 62.0min\n",
      "[Parallel(n_jobs=-1)]: Done 667 tasks      | elapsed: 62.1min\n",
      "[Parallel(n_jobs=-1)]: Done 668 tasks      | elapsed: 62.2min\n",
      "[Parallel(n_jobs=-1)]: Done 669 tasks      | elapsed: 62.2min\n",
      "[Parallel(n_jobs=-1)]: Done 670 tasks      | elapsed: 62.2min\n",
      "[Parallel(n_jobs=-1)]: Done 671 tasks      | elapsed: 62.4min\n",
      "[Parallel(n_jobs=-1)]: Done 672 tasks      | elapsed: 62.4min\n",
      "[Parallel(n_jobs=-1)]: Done 673 tasks      | elapsed: 62.5min\n",
      "[Parallel(n_jobs=-1)]: Done 674 tasks      | elapsed: 62.5min\n",
      "[Parallel(n_jobs=-1)]: Done 675 tasks      | elapsed: 62.7min\n",
      "[Parallel(n_jobs=-1)]: Done 676 tasks      | elapsed: 62.7min\n",
      "[Parallel(n_jobs=-1)]: Done 677 tasks      | elapsed: 62.9min\n",
      "[Parallel(n_jobs=-1)]: Done 678 tasks      | elapsed: 62.9min\n",
      "[Parallel(n_jobs=-1)]: Done 679 tasks      | elapsed: 63.1min\n",
      "[Parallel(n_jobs=-1)]: Done 680 tasks      | elapsed: 63.1min\n",
      "[Parallel(n_jobs=-1)]: Done 681 tasks      | elapsed: 63.3min\n",
      "[Parallel(n_jobs=-1)]: Done 682 tasks      | elapsed: 63.4min\n",
      "[Parallel(n_jobs=-1)]: Done 683 tasks      | elapsed: 63.4min\n",
      "[Parallel(n_jobs=-1)]: Done 684 tasks      | elapsed: 63.5min\n",
      "[Parallel(n_jobs=-1)]: Done 685 tasks      | elapsed: 63.6min\n",
      "[Parallel(n_jobs=-1)]: Done 686 tasks      | elapsed: 63.7min\n",
      "[Parallel(n_jobs=-1)]: Done 687 tasks      | elapsed: 63.7min\n",
      "[Parallel(n_jobs=-1)]: Done 688 tasks      | elapsed: 63.7min\n",
      "[Parallel(n_jobs=-1)]: Done 689 tasks      | elapsed: 64.0min\n",
      "[Parallel(n_jobs=-1)]: Done 690 tasks      | elapsed: 64.1min\n",
      "[Parallel(n_jobs=-1)]: Done 691 tasks      | elapsed: 64.1min\n",
      "[Parallel(n_jobs=-1)]: Done 692 tasks      | elapsed: 64.1min\n",
      "[Parallel(n_jobs=-1)]: Done 693 tasks      | elapsed: 64.2min\n",
      "[Parallel(n_jobs=-1)]: Done 694 tasks      | elapsed: 64.4min\n",
      "[Parallel(n_jobs=-1)]: Done 695 tasks      | elapsed: 64.4min\n",
      "[Parallel(n_jobs=-1)]: Done 696 tasks      | elapsed: 64.6min\n",
      "[Parallel(n_jobs=-1)]: Done 697 tasks      | elapsed: 64.6min\n",
      "[Parallel(n_jobs=-1)]: Done 698 tasks      | elapsed: 64.7min\n",
      "[Parallel(n_jobs=-1)]: Done 699 tasks      | elapsed: 64.8min\n",
      "[Parallel(n_jobs=-1)]: Done 700 tasks      | elapsed: 64.8min\n",
      "[Parallel(n_jobs=-1)]: Done 701 tasks      | elapsed: 64.9min\n",
      "[Parallel(n_jobs=-1)]: Done 702 tasks      | elapsed: 64.9min\n",
      "[Parallel(n_jobs=-1)]: Done 703 tasks      | elapsed: 65.0min\n",
      "[Parallel(n_jobs=-1)]: Done 704 tasks      | elapsed: 65.0min\n",
      "[Parallel(n_jobs=-1)]: Done 705 tasks      | elapsed: 65.1min\n",
      "[Parallel(n_jobs=-1)]: Done 706 tasks      | elapsed: 65.1min\n",
      "[Parallel(n_jobs=-1)]: Done 707 tasks      | elapsed: 65.2min\n",
      "[Parallel(n_jobs=-1)]: Done 708 tasks      | elapsed: 65.3min\n",
      "[Parallel(n_jobs=-1)]: Done 709 tasks      | elapsed: 65.4min\n",
      "[Parallel(n_jobs=-1)]: Done 710 tasks      | elapsed: 65.4min\n",
      "[Parallel(n_jobs=-1)]: Done 711 tasks      | elapsed: 65.4min\n",
      "[Parallel(n_jobs=-1)]: Done 712 tasks      | elapsed: 65.5min\n",
      "[Parallel(n_jobs=-1)]: Done 713 tasks      | elapsed: 65.5min\n",
      "[Parallel(n_jobs=-1)]: Done 714 tasks      | elapsed: 65.6min\n",
      "[Parallel(n_jobs=-1)]: Done 715 tasks      | elapsed: 65.6min\n",
      "[Parallel(n_jobs=-1)]: Done 716 tasks      | elapsed: 65.6min\n",
      "[Parallel(n_jobs=-1)]: Done 717 tasks      | elapsed: 65.7min\n",
      "[Parallel(n_jobs=-1)]: Done 718 tasks      | elapsed: 65.7min\n",
      "[Parallel(n_jobs=-1)]: Done 719 tasks      | elapsed: 65.8min\n",
      "[Parallel(n_jobs=-1)]: Done 720 tasks      | elapsed: 65.8min\n",
      "[Parallel(n_jobs=-1)]: Done 721 tasks      | elapsed: 65.9min\n",
      "[Parallel(n_jobs=-1)]: Done 722 tasks      | elapsed: 65.9min\n",
      "[Parallel(n_jobs=-1)]: Done 723 tasks      | elapsed: 66.0min\n",
      "[Parallel(n_jobs=-1)]: Done 724 tasks      | elapsed: 66.0min\n",
      "[Parallel(n_jobs=-1)]: Done 725 tasks      | elapsed: 66.0min\n",
      "[Parallel(n_jobs=-1)]: Done 726 tasks      | elapsed: 66.1min\n",
      "[Parallel(n_jobs=-1)]: Done 727 tasks      | elapsed: 66.2min\n",
      "[Parallel(n_jobs=-1)]: Done 728 tasks      | elapsed: 66.3min\n",
      "[Parallel(n_jobs=-1)]: Done 729 tasks      | elapsed: 66.3min\n",
      "[Parallel(n_jobs=-1)]: Done 730 tasks      | elapsed: 66.4min\n",
      "[Parallel(n_jobs=-1)]: Done 731 tasks      | elapsed: 66.4min\n",
      "[Parallel(n_jobs=-1)]: Done 732 tasks      | elapsed: 66.4min\n",
      "[Parallel(n_jobs=-1)]: Done 733 tasks      | elapsed: 66.4min\n",
      "[Parallel(n_jobs=-1)]: Done 734 tasks      | elapsed: 66.5min\n",
      "[Parallel(n_jobs=-1)]: Done 735 tasks      | elapsed: 66.5min\n",
      "[Parallel(n_jobs=-1)]: Done 736 tasks      | elapsed: 66.6min\n",
      "[Parallel(n_jobs=-1)]: Done 737 tasks      | elapsed: 66.6min\n",
      "[Parallel(n_jobs=-1)]: Done 738 tasks      | elapsed: 66.8min\n",
      "[Parallel(n_jobs=-1)]: Done 739 tasks      | elapsed: 66.8min\n",
      "[Parallel(n_jobs=-1)]: Done 740 tasks      | elapsed: 66.8min\n",
      "[Parallel(n_jobs=-1)]: Done 741 tasks      | elapsed: 66.9min\n",
      "[Parallel(n_jobs=-1)]: Done 742 tasks      | elapsed: 66.9min\n",
      "[Parallel(n_jobs=-1)]: Done 743 tasks      | elapsed: 67.0min\n",
      "[Parallel(n_jobs=-1)]: Done 744 tasks      | elapsed: 67.0min\n",
      "[Parallel(n_jobs=-1)]: Done 745 tasks      | elapsed: 67.1min\n",
      "[Parallel(n_jobs=-1)]: Done 746 tasks      | elapsed: 67.1min\n",
      "[Parallel(n_jobs=-1)]: Done 747 tasks      | elapsed: 67.2min\n",
      "[Parallel(n_jobs=-1)]: Done 748 tasks      | elapsed: 67.2min\n",
      "[Parallel(n_jobs=-1)]: Done 749 tasks      | elapsed: 67.3min\n",
      "[Parallel(n_jobs=-1)]: Done 750 tasks      | elapsed: 67.3min\n",
      "[Parallel(n_jobs=-1)]: Done 751 tasks      | elapsed: 67.3min\n",
      "[Parallel(n_jobs=-1)]: Done 752 tasks      | elapsed: 67.4min\n",
      "[Parallel(n_jobs=-1)]: Done 753 tasks      | elapsed: 67.4min\n",
      "[Parallel(n_jobs=-1)]: Done 754 tasks      | elapsed: 67.5min\n",
      "[Parallel(n_jobs=-1)]: Done 755 tasks      | elapsed: 67.5min\n",
      "[Parallel(n_jobs=-1)]: Done 756 tasks      | elapsed: 67.6min\n",
      "[Parallel(n_jobs=-1)]: Done 757 tasks      | elapsed: 67.6min\n",
      "[Parallel(n_jobs=-1)]: Done 758 tasks      | elapsed: 67.6min\n",
      "[Parallel(n_jobs=-1)]: Done 759 tasks      | elapsed: 67.7min\n",
      "[Parallel(n_jobs=-1)]: Done 760 tasks      | elapsed: 67.8min\n",
      "[Parallel(n_jobs=-1)]: Done 761 tasks      | elapsed: 67.8min\n",
      "[Parallel(n_jobs=-1)]: Done 762 tasks      | elapsed: 67.9min\n",
      "[Parallel(n_jobs=-1)]: Done 763 tasks      | elapsed: 67.9min\n",
      "[Parallel(n_jobs=-1)]: Done 764 tasks      | elapsed: 68.0min\n",
      "[Parallel(n_jobs=-1)]: Done 765 tasks      | elapsed: 68.0min\n",
      "[Parallel(n_jobs=-1)]: Done 766 tasks      | elapsed: 68.1min\n",
      "[Parallel(n_jobs=-1)]: Done 767 tasks      | elapsed: 68.1min\n",
      "[Parallel(n_jobs=-1)]: Done 768 tasks      | elapsed: 68.1min\n",
      "[Parallel(n_jobs=-1)]: Done 769 tasks      | elapsed: 68.2min\n",
      "[Parallel(n_jobs=-1)]: Done 770 tasks      | elapsed: 68.2min\n",
      "[Parallel(n_jobs=-1)]: Done 771 tasks      | elapsed: 68.3min\n",
      "[Parallel(n_jobs=-1)]: Done 772 tasks      | elapsed: 68.3min\n",
      "[Parallel(n_jobs=-1)]: Done 773 tasks      | elapsed: 68.4min\n",
      "[Parallel(n_jobs=-1)]: Done 774 tasks      | elapsed: 68.4min\n",
      "[Parallel(n_jobs=-1)]: Done 775 tasks      | elapsed: 68.5min\n",
      "[Parallel(n_jobs=-1)]: Done 776 tasks      | elapsed: 68.5min\n",
      "[Parallel(n_jobs=-1)]: Done 777 tasks      | elapsed: 68.6min\n",
      "[Parallel(n_jobs=-1)]: Done 778 tasks      | elapsed: 68.6min\n",
      "[Parallel(n_jobs=-1)]: Done 779 tasks      | elapsed: 68.7min\n",
      "[Parallel(n_jobs=-1)]: Done 780 tasks      | elapsed: 68.7min\n",
      "[Parallel(n_jobs=-1)]: Done 781 tasks      | elapsed: 68.7min\n",
      "[Parallel(n_jobs=-1)]: Done 782 tasks      | elapsed: 68.8min\n",
      "[Parallel(n_jobs=-1)]: Done 783 tasks      | elapsed: 68.8min\n",
      "[Parallel(n_jobs=-1)]: Done 784 tasks      | elapsed: 68.9min\n",
      "[Parallel(n_jobs=-1)]: Done 785 tasks      | elapsed: 68.9min\n",
      "[Parallel(n_jobs=-1)]: Done 786 tasks      | elapsed: 68.9min\n",
      "[Parallel(n_jobs=-1)]: Done 787 tasks      | elapsed: 69.0min\n",
      "[Parallel(n_jobs=-1)]: Done 788 tasks      | elapsed: 69.1min\n",
      "[Parallel(n_jobs=-1)]: Done 789 tasks      | elapsed: 69.1min\n",
      "[Parallel(n_jobs=-1)]: Done 790 tasks      | elapsed: 69.1min\n",
      "[Parallel(n_jobs=-1)]: Done 791 tasks      | elapsed: 69.2min\n",
      "[Parallel(n_jobs=-1)]: Done 792 tasks      | elapsed: 69.3min\n",
      "[Parallel(n_jobs=-1)]: Done 793 tasks      | elapsed: 69.3min\n",
      "[Parallel(n_jobs=-1)]: Done 794 tasks      | elapsed: 69.3min\n",
      "[Parallel(n_jobs=-1)]: Done 795 tasks      | elapsed: 69.4min\n",
      "[Parallel(n_jobs=-1)]: Done 796 tasks      | elapsed: 69.5min\n"
     ]
    },
    {
     "name": "stdout",
     "output_type": "stream",
     "text": [
      "[Parallel(n_jobs=-1)]: Done 797 tasks      | elapsed: 69.5min\n",
      "[Parallel(n_jobs=-1)]: Done 798 tasks      | elapsed: 69.5min\n",
      "[Parallel(n_jobs=-1)]: Done 799 tasks      | elapsed: 69.5min\n",
      "[Parallel(n_jobs=-1)]: Done 800 tasks      | elapsed: 69.7min\n",
      "[Parallel(n_jobs=-1)]: Done 801 tasks      | elapsed: 69.7min\n",
      "[Parallel(n_jobs=-1)]: Done 802 tasks      | elapsed: 69.7min\n",
      "[Parallel(n_jobs=-1)]: Done 803 tasks      | elapsed: 69.8min\n",
      "[Parallel(n_jobs=-1)]: Done 804 tasks      | elapsed: 69.9min\n",
      "[Parallel(n_jobs=-1)]: Done 805 tasks      | elapsed: 69.9min\n",
      "[Parallel(n_jobs=-1)]: Done 806 tasks      | elapsed: 69.9min\n",
      "[Parallel(n_jobs=-1)]: Done 807 tasks      | elapsed: 70.0min\n",
      "[Parallel(n_jobs=-1)]: Done 808 tasks      | elapsed: 70.0min\n",
      "[Parallel(n_jobs=-1)]: Done 809 tasks      | elapsed: 70.0min\n",
      "[Parallel(n_jobs=-1)]: Done 810 tasks      | elapsed: 70.1min\n",
      "[Parallel(n_jobs=-1)]: Done 811 tasks      | elapsed: 70.2min\n",
      "[Parallel(n_jobs=-1)]: Done 812 tasks      | elapsed: 70.3min\n",
      "[Parallel(n_jobs=-1)]: Done 813 tasks      | elapsed: 70.3min\n",
      "[Parallel(n_jobs=-1)]: Done 814 tasks      | elapsed: 70.3min\n",
      "[Parallel(n_jobs=-1)]: Done 815 tasks      | elapsed: 70.4min\n",
      "[Parallel(n_jobs=-1)]: Done 816 tasks      | elapsed: 70.5min\n",
      "[Parallel(n_jobs=-1)]: Done 817 tasks      | elapsed: 70.5min\n",
      "[Parallel(n_jobs=-1)]: Done 818 tasks      | elapsed: 70.5min\n",
      "[Parallel(n_jobs=-1)]: Done 819 tasks      | elapsed: 70.6min\n",
      "[Parallel(n_jobs=-1)]: Done 820 tasks      | elapsed: 70.7min\n",
      "[Parallel(n_jobs=-1)]: Done 821 tasks      | elapsed: 70.7min\n",
      "[Parallel(n_jobs=-1)]: Done 822 tasks      | elapsed: 70.7min\n",
      "[Parallel(n_jobs=-1)]: Done 823 tasks      | elapsed: 70.8min\n",
      "[Parallel(n_jobs=-1)]: Done 824 tasks      | elapsed: 70.8min\n",
      "[Parallel(n_jobs=-1)]: Done 825 tasks      | elapsed: 70.9min\n",
      "[Parallel(n_jobs=-1)]: Done 826 tasks      | elapsed: 70.9min\n",
      "[Parallel(n_jobs=-1)]: Done 827 tasks      | elapsed: 70.9min\n",
      "[Parallel(n_jobs=-1)]: Done 828 tasks      | elapsed: 71.0min\n",
      "[Parallel(n_jobs=-1)]: Done 829 tasks      | elapsed: 71.1min\n",
      "[Parallel(n_jobs=-1)]: Done 830 tasks      | elapsed: 71.1min\n",
      "[Parallel(n_jobs=-1)]: Done 831 tasks      | elapsed: 71.2min\n",
      "[Parallel(n_jobs=-1)]: Done 832 tasks      | elapsed: 71.2min\n",
      "[Parallel(n_jobs=-1)]: Done 833 tasks      | elapsed: 71.3min\n",
      "[Parallel(n_jobs=-1)]: Done 834 tasks      | elapsed: 71.4min\n",
      "[Parallel(n_jobs=-1)]: Done 835 tasks      | elapsed: 71.4min\n",
      "[Parallel(n_jobs=-1)]: Done 836 tasks      | elapsed: 71.5min\n",
      "[Parallel(n_jobs=-1)]: Done 837 tasks      | elapsed: 71.5min\n",
      "[Parallel(n_jobs=-1)]: Done 838 tasks      | elapsed: 71.5min\n",
      "[Parallel(n_jobs=-1)]: Done 839 tasks      | elapsed: 71.6min\n",
      "[Parallel(n_jobs=-1)]: Done 840 tasks      | elapsed: 71.6min\n",
      "[Parallel(n_jobs=-1)]: Done 841 tasks      | elapsed: 71.7min\n",
      "[Parallel(n_jobs=-1)]: Done 842 tasks      | elapsed: 71.7min\n",
      "[Parallel(n_jobs=-1)]: Done 843 tasks      | elapsed: 71.8min\n",
      "[Parallel(n_jobs=-1)]: Done 844 tasks      | elapsed: 71.8min\n",
      "[Parallel(n_jobs=-1)]: Done 845 tasks      | elapsed: 71.9min\n",
      "[Parallel(n_jobs=-1)]: Done 846 tasks      | elapsed: 72.0min\n",
      "[Parallel(n_jobs=-1)]: Done 847 tasks      | elapsed: 72.0min\n",
      "[Parallel(n_jobs=-1)]: Done 848 tasks      | elapsed: 72.1min\n",
      "[Parallel(n_jobs=-1)]: Done 849 tasks      | elapsed: 72.1min\n",
      "[Parallel(n_jobs=-1)]: Done 850 tasks      | elapsed: 72.1min\n",
      "[Parallel(n_jobs=-1)]: Done 851 tasks      | elapsed: 72.2min\n",
      "[Parallel(n_jobs=-1)]: Done 852 tasks      | elapsed: 72.2min\n",
      "[Parallel(n_jobs=-1)]: Done 853 tasks      | elapsed: 72.3min\n",
      "[Parallel(n_jobs=-1)]: Done 854 tasks      | elapsed: 72.3min\n",
      "[Parallel(n_jobs=-1)]: Done 855 tasks      | elapsed: 72.3min\n",
      "[Parallel(n_jobs=-1)]: Done 856 tasks      | elapsed: 72.4min\n",
      "[Parallel(n_jobs=-1)]: Done 857 tasks      | elapsed: 72.5min\n",
      "[Parallel(n_jobs=-1)]: Done 858 tasks      | elapsed: 72.5min\n",
      "[Parallel(n_jobs=-1)]: Done 859 tasks      | elapsed: 72.5min\n",
      "[Parallel(n_jobs=-1)]: Done 860 tasks      | elapsed: 72.6min\n",
      "[Parallel(n_jobs=-1)]: Done 861 tasks      | elapsed: 72.6min\n",
      "[Parallel(n_jobs=-1)]: Done 862 tasks      | elapsed: 72.7min\n",
      "[Parallel(n_jobs=-1)]: Done 863 tasks      | elapsed: 72.7min\n",
      "[Parallel(n_jobs=-1)]: Done 864 tasks      | elapsed: 72.8min\n",
      "[Parallel(n_jobs=-1)]: Done 865 tasks      | elapsed: 72.8min\n",
      "[Parallel(n_jobs=-1)]: Done 866 tasks      | elapsed: 72.9min\n",
      "[Parallel(n_jobs=-1)]: Done 867 tasks      | elapsed: 72.9min\n",
      "[Parallel(n_jobs=-1)]: Done 868 tasks      | elapsed: 72.9min\n",
      "[Parallel(n_jobs=-1)]: Done 869 tasks      | elapsed: 73.0min\n",
      "[Parallel(n_jobs=-1)]: Done 870 tasks      | elapsed: 73.0min\n",
      "[Parallel(n_jobs=-1)]: Done 871 tasks      | elapsed: 73.1min\n",
      "[Parallel(n_jobs=-1)]: Done 872 tasks      | elapsed: 73.1min\n",
      "[Parallel(n_jobs=-1)]: Done 873 tasks      | elapsed: 73.1min\n",
      "[Parallel(n_jobs=-1)]: Done 874 tasks      | elapsed: 73.2min\n",
      "[Parallel(n_jobs=-1)]: Done 875 tasks      | elapsed: 73.3min\n",
      "[Parallel(n_jobs=-1)]: Done 876 tasks      | elapsed: 73.3min\n",
      "[Parallel(n_jobs=-1)]: Done 877 tasks      | elapsed: 73.3min\n",
      "[Parallel(n_jobs=-1)]: Done 878 tasks      | elapsed: 73.3min\n",
      "[Parallel(n_jobs=-1)]: Done 879 tasks      | elapsed: 73.5min\n",
      "[Parallel(n_jobs=-1)]: Done 880 tasks      | elapsed: 73.5min\n",
      "[Parallel(n_jobs=-1)]: Done 881 tasks      | elapsed: 73.5min\n",
      "[Parallel(n_jobs=-1)]: Done 882 tasks      | elapsed: 73.6min\n",
      "[Parallel(n_jobs=-1)]: Done 883 tasks      | elapsed: 73.6min\n",
      "[Parallel(n_jobs=-1)]: Done 884 tasks      | elapsed: 73.6min\n",
      "[Parallel(n_jobs=-1)]: Done 885 tasks      | elapsed: 73.8min\n",
      "[Parallel(n_jobs=-1)]: Done 886 tasks      | elapsed: 73.8min\n",
      "[Parallel(n_jobs=-1)]: Done 887 tasks      | elapsed: 73.8min\n",
      "[Parallel(n_jobs=-1)]: Done 888 tasks      | elapsed: 73.8min\n",
      "[Parallel(n_jobs=-1)]: Done 889 tasks      | elapsed: 74.0min\n",
      "[Parallel(n_jobs=-1)]: Done 890 tasks      | elapsed: 74.0min\n",
      "[Parallel(n_jobs=-1)]: Done 891 tasks      | elapsed: 74.0min\n",
      "[Parallel(n_jobs=-1)]: Done 892 tasks      | elapsed: 74.0min\n",
      "[Parallel(n_jobs=-1)]: Done 893 tasks      | elapsed: 74.2min\n",
      "[Parallel(n_jobs=-1)]: Done 894 tasks      | elapsed: 74.2min\n",
      "[Parallel(n_jobs=-1)]: Done 895 tasks      | elapsed: 74.2min\n",
      "[Parallel(n_jobs=-1)]: Done 896 tasks      | elapsed: 74.3min\n",
      "[Parallel(n_jobs=-1)]: Done 897 tasks      | elapsed: 74.3min\n",
      "[Parallel(n_jobs=-1)]: Done 898 tasks      | elapsed: 74.4min\n",
      "[Parallel(n_jobs=-1)]: Done 899 tasks      | elapsed: 74.4min\n",
      "[Parallel(n_jobs=-1)]: Done 900 tasks      | elapsed: 74.5min\n",
      "[Parallel(n_jobs=-1)]: Done 901 tasks      | elapsed: 74.5min\n",
      "[Parallel(n_jobs=-1)]: Done 902 tasks      | elapsed: 74.6min\n",
      "[Parallel(n_jobs=-1)]: Done 903 tasks      | elapsed: 74.6min\n",
      "[Parallel(n_jobs=-1)]: Done 904 tasks      | elapsed: 74.6min\n",
      "[Parallel(n_jobs=-1)]: Done 905 tasks      | elapsed: 74.7min\n",
      "[Parallel(n_jobs=-1)]: Done 906 tasks      | elapsed: 74.7min\n",
      "[Parallel(n_jobs=-1)]: Done 907 tasks      | elapsed: 74.8min\n",
      "[Parallel(n_jobs=-1)]: Done 908 tasks      | elapsed: 74.8min\n",
      "[Parallel(n_jobs=-1)]: Done 909 tasks      | elapsed: 74.8min\n",
      "[Parallel(n_jobs=-1)]: Done 910 tasks      | elapsed: 74.9min\n",
      "[Parallel(n_jobs=-1)]: Done 911 tasks      | elapsed: 75.0min\n",
      "[Parallel(n_jobs=-1)]: Done 912 tasks      | elapsed: 75.0min\n",
      "[Parallel(n_jobs=-1)]: Done 913 tasks      | elapsed: 75.0min\n",
      "[Parallel(n_jobs=-1)]: Done 914 tasks      | elapsed: 75.0min\n",
      "[Parallel(n_jobs=-1)]: Done 915 tasks      | elapsed: 75.1min\n",
      "[Parallel(n_jobs=-1)]: Done 916 tasks      | elapsed: 75.1min\n",
      "[Parallel(n_jobs=-1)]: Done 917 tasks      | elapsed: 75.2min\n",
      "[Parallel(n_jobs=-1)]: Done 918 tasks      | elapsed: 75.2min\n",
      "[Parallel(n_jobs=-1)]: Done 919 tasks      | elapsed: 75.3min\n",
      "[Parallel(n_jobs=-1)]: Done 920 tasks      | elapsed: 75.3min\n",
      "[Parallel(n_jobs=-1)]: Done 921 tasks      | elapsed: 75.4min\n",
      "[Parallel(n_jobs=-1)]: Done 922 tasks      | elapsed: 75.4min\n",
      "[Parallel(n_jobs=-1)]: Done 923 tasks      | elapsed: 75.5min\n",
      "[Parallel(n_jobs=-1)]: Done 924 tasks      | elapsed: 75.5min\n",
      "[Parallel(n_jobs=-1)]: Done 925 tasks      | elapsed: 75.6min\n",
      "[Parallel(n_jobs=-1)]: Done 926 tasks      | elapsed: 75.6min\n",
      "[Parallel(n_jobs=-1)]: Done 927 tasks      | elapsed: 75.6min\n",
      "[Parallel(n_jobs=-1)]: Done 928 tasks      | elapsed: 75.8min\n",
      "[Parallel(n_jobs=-1)]: Done 929 tasks      | elapsed: 75.8min\n"
     ]
    },
    {
     "name": "stdout",
     "output_type": "stream",
     "text": [
      "[Parallel(n_jobs=-1)]: Done 930 tasks      | elapsed: 75.9min\n",
      "[Parallel(n_jobs=-1)]: Done 931 tasks      | elapsed: 75.9min\n",
      "[Parallel(n_jobs=-1)]: Done 932 tasks      | elapsed: 75.9min\n",
      "[Parallel(n_jobs=-1)]: Done 933 tasks      | elapsed: 76.1min\n",
      "[Parallel(n_jobs=-1)]: Done 934 tasks      | elapsed: 76.1min\n",
      "[Parallel(n_jobs=-1)]: Done 935 tasks      | elapsed: 76.1min\n",
      "[Parallel(n_jobs=-1)]: Done 936 tasks      | elapsed: 76.2min\n",
      "[Parallel(n_jobs=-1)]: Done 937 tasks      | elapsed: 76.2min\n",
      "[Parallel(n_jobs=-1)]: Done 938 tasks      | elapsed: 76.3min\n",
      "[Parallel(n_jobs=-1)]: Done 939 tasks      | elapsed: 76.4min\n",
      "[Parallel(n_jobs=-1)]: Done 940 tasks      | elapsed: 76.4min\n",
      "[Parallel(n_jobs=-1)]: Done 941 tasks      | elapsed: 76.5min\n",
      "[Parallel(n_jobs=-1)]: Done 942 tasks      | elapsed: 76.6min\n",
      "[Parallel(n_jobs=-1)]: Done 943 tasks      | elapsed: 76.6min\n",
      "[Parallel(n_jobs=-1)]: Done 944 tasks      | elapsed: 76.7min\n",
      "[Parallel(n_jobs=-1)]: Done 945 tasks      | elapsed: 76.8min\n",
      "[Parallel(n_jobs=-1)]: Done 946 tasks      | elapsed: 76.8min\n",
      "[Parallel(n_jobs=-1)]: Done 947 tasks      | elapsed: 76.9min\n",
      "[Parallel(n_jobs=-1)]: Done 948 tasks      | elapsed: 76.9min\n",
      "[Parallel(n_jobs=-1)]: Done 949 tasks      | elapsed: 76.9min\n",
      "[Parallel(n_jobs=-1)]: Done 950 tasks      | elapsed: 77.1min\n",
      "[Parallel(n_jobs=-1)]: Done 951 tasks      | elapsed: 77.1min\n",
      "[Parallel(n_jobs=-1)]: Done 952 tasks      | elapsed: 77.1min\n",
      "[Parallel(n_jobs=-1)]: Done 953 tasks      | elapsed: 77.2min\n",
      "[Parallel(n_jobs=-1)]: Done 954 tasks      | elapsed: 77.2min\n",
      "[Parallel(n_jobs=-1)]: Done 955 tasks      | elapsed: 77.2min\n",
      "[Parallel(n_jobs=-1)]: Done 956 tasks      | elapsed: 77.4min\n",
      "[Parallel(n_jobs=-1)]: Done 957 tasks      | elapsed: 77.4min\n",
      "[Parallel(n_jobs=-1)]: Done 958 tasks      | elapsed: 77.4min\n",
      "[Parallel(n_jobs=-1)]: Done 959 tasks      | elapsed: 77.6min\n",
      "[Parallel(n_jobs=-1)]: Done 960 tasks      | elapsed: 77.6min\n",
      "[Parallel(n_jobs=-1)]: Done 961 tasks      | elapsed: 77.7min\n",
      "[Parallel(n_jobs=-1)]: Done 962 tasks      | elapsed: 77.7min\n",
      "[Parallel(n_jobs=-1)]: Done 963 tasks      | elapsed: 77.8min\n",
      "[Parallel(n_jobs=-1)]: Done 964 tasks      | elapsed: 77.8min\n",
      "[Parallel(n_jobs=-1)]: Done 965 tasks      | elapsed: 77.9min\n",
      "[Parallel(n_jobs=-1)]: Done 966 tasks      | elapsed: 77.9min\n",
      "[Parallel(n_jobs=-1)]: Done 967 tasks      | elapsed: 78.0min\n",
      "[Parallel(n_jobs=-1)]: Done 968 tasks      | elapsed: 78.0min\n",
      "[Parallel(n_jobs=-1)]: Done 969 tasks      | elapsed: 78.0min\n",
      "[Parallel(n_jobs=-1)]: Done 970 tasks      | elapsed: 78.1min\n",
      "[Parallel(n_jobs=-1)]: Done 971 tasks      | elapsed: 78.1min\n",
      "[Parallel(n_jobs=-1)]: Done 972 tasks      | elapsed: 78.1min\n",
      "[Parallel(n_jobs=-1)]: Done 973 tasks      | elapsed: 78.2min\n",
      "[Parallel(n_jobs=-1)]: Done 974 tasks      | elapsed: 78.2min\n",
      "[Parallel(n_jobs=-1)]: Done 975 tasks      | elapsed: 78.2min\n",
      "[Parallel(n_jobs=-1)]: Done 976 tasks      | elapsed: 78.3min\n",
      "[Parallel(n_jobs=-1)]: Done 977 tasks      | elapsed: 78.4min\n",
      "[Parallel(n_jobs=-1)]: Done 978 tasks      | elapsed: 78.4min\n",
      "[Parallel(n_jobs=-1)]: Done 979 tasks      | elapsed: 78.4min\n",
      "[Parallel(n_jobs=-1)]: Done 980 tasks      | elapsed: 78.5min\n",
      "[Parallel(n_jobs=-1)]: Done 981 tasks      | elapsed: 78.5min\n",
      "[Parallel(n_jobs=-1)]: Done 982 tasks      | elapsed: 78.5min\n",
      "[Parallel(n_jobs=-1)]: Done 983 tasks      | elapsed: 78.6min\n",
      "[Parallel(n_jobs=-1)]: Done 984 tasks      | elapsed: 78.6min\n",
      "[Parallel(n_jobs=-1)]: Done 985 tasks      | elapsed: 78.6min\n",
      "[Parallel(n_jobs=-1)]: Done 986 tasks      | elapsed: 78.7min\n",
      "[Parallel(n_jobs=-1)]: Done 987 tasks      | elapsed: 78.8min\n",
      "[Parallel(n_jobs=-1)]: Done 988 tasks      | elapsed: 78.8min\n",
      "[Parallel(n_jobs=-1)]: Done 989 tasks      | elapsed: 78.8min\n",
      "[Parallel(n_jobs=-1)]: Done 990 tasks      | elapsed: 78.9min\n",
      "[Parallel(n_jobs=-1)]: Done 991 tasks      | elapsed: 79.0min\n",
      "[Parallel(n_jobs=-1)]: Done 992 tasks      | elapsed: 79.0min\n",
      "[Parallel(n_jobs=-1)]: Done 993 tasks      | elapsed: 79.0min\n",
      "[Parallel(n_jobs=-1)]: Done 1000 out of 1000 | elapsed: 79.4min finished\n"
     ]
    }
   ],
   "source": [
    "outfile='Data/Test/FCellTesting2/f005.dat'\n",
    "\n",
    "simObject.parallel_main(outfile); #Runs parallelized simulations in simObject"
   ]
  },
  {
   "cell_type": "markdown",
   "metadata": {},
   "source": [
    "The output file will contain a list of 7-column rows. The seven columns correspond to three positions $x,y,z$, three velocities $v_x,v_y,v_z$, and a time $t$. Each row specifies a single particle, at a single time step. The file is organized into single-particle blocks, separated by rows of `0 0 0 0 0 0 0`. Each block starts and ends with the initial and final data for each particle, respectively.\n",
    "\n",
    "To get a basic analysis of the particle data, we can use the **`fluidSim3D`** python program."
   ]
  },
  {
   "cell_type": "code",
   "execution_count": 4,
   "metadata": {},
   "outputs": [],
   "source": [
    "import fluidSim3D as fs"
   ]
  },
  {
   "cell_type": "markdown",
   "metadata": {},
   "source": [
    "Running the `analyzeTrajData()` method on our freshly made output file will give us basic statistics and plots about the final molecule distributions. However, the script relies on knowledge of the cell geometry (e.g. cell dimensions, aperture shape) to properly analyze the data, so we encode the geometry in the file name according to our usual format."
   ]
  },
  {
   "cell_type": "code",
   "execution_count": 7,
   "metadata": {},
   "outputs": [
    {
     "name": "stderr",
     "output_type": "stream",
     "text": [
      "The syntax of the command is incorrect.\n",
      "cp: cannot stat 'Data/outputTest.dat': No such file or directory\n"
     ]
    }
   ],
   "source": [
    "# !mkdir Data/FCellTesting\n",
    "# !cp Data/outputTest.dat Data/FCellTesting/f005.dat"
   ]
  },
  {
   "cell_type": "markdown",
   "metadata": {},
   "source": [
    "Now we have our output file in the folder `FCellTesting`, with the filename `f005.dat` indicating that the simulation used cell geometry `f` with a flow rate of `5 SCCM`. "
   ]
  },
  {
   "cell_type": "code",
   "execution_count": 7,
   "metadata": {},
   "outputs": [
    {
     "name": "stdout",
     "output_type": "stream",
     "text": [
      "The aperture is at z = 0.064 m.\n",
      "Analysis of data for z = 0.064 m, equal to 0 m past the aperture:\n",
      "dome_rad is equal to 0.0\n",
      "Number of particles: 1000\n"
     ]
    },
    {
     "data": {
      "image/png": "[encoded data removed]",
      "text/plain": [
       "<Figure size 432x288 with 1 Axes>"
      ]
     },
     "metadata": {
      "needs_background": "light"
     },
     "output_type": "display_data"
    },
    {
     "name": "stdout",
     "output_type": "stream",
     "text": [
      "numArrived:632, pdata: (632, 9)\n",
      "Number arrived = 632, size of xs = (632,)\n",
      "Median radius 1.175 mm, median theta 91.248 deg\n",
      "86 were useful (8.6%)\n"
     ]
    },
    {
     "data": {
      "text/plain": [
       "<Figure size 432x288 with 0 Axes>"
      ]
     },
     "metadata": {},
     "output_type": "display_data"
    },
    {
     "data": {
      "image/png": "[encoded data removed]",
      "text/plain": [
       "<Figure size 432x288 with 1 Axes>"
      ]
     },
     "metadata": {
      "needs_background": "light"
     },
     "output_type": "display_data"
    },
    {
     "data": {
      "image/png": "[encoded data removed]",
      "text/plain": [
       "<Figure size 432x288 with 1 Axes>"
      ]
     },
     "metadata": {
      "needs_background": "light"
     },
     "output_type": "display_data"
    },
    {
     "data": {
      "image/png": "[encoded data removed]",
      "text/plain": [
       "<Figure size 432x288 with 1 Axes>"
      ]
     },
     "metadata": {
      "needs_background": "light"
     },
     "output_type": "display_data"
    },
    {
     "data": {
      "image/png": "[encoded data removed]",
      "text/plain": [
       "<Figure size 432x288 with 1 Axes>"
      ]
     },
     "metadata": {
      "needs_background": "light"
     },
     "output_type": "display_data"
    },
    {
     "data": {
      "image/png": "[encoded data removed]",
      "text/plain": [
       "<Figure size 432x288 with 1 Axes>"
      ]
     },
     "metadata": {
      "needs_background": "light"
     },
     "output_type": "display_data"
    },
    {
     "data": {
      "image/png": "[encoded data removed]",
      "text/plain": [
       "<Figure size 432x288 with 1 Axes>"
      ]
     },
     "metadata": {
      "needs_background": "light"
     },
     "output_type": "display_data"
    },
    {
     "data": {
      "image/png": "[encoded data removed]",
      "text/plain": [
       "<Figure size 432x288 with 1 Axes>"
      ]
     },
     "metadata": {
      "needs_background": "light"
     },
     "output_type": "display_data"
    },
    {
     "name": "stdout",
     "output_type": "stream",
     "text": [
      "\n",
      "Analysis of data for z = 0.064 m, equal to 0 m past the aperture:\n",
      "632/1000 (63.2%) made it to z = 0.064 m.\n",
      "Standard deviation in extraction: 1.5%.\n",
      "Radial velocity 3 cm from aperture: 17.5 +- 9.1 m/s\n",
      "Axial velocity 3 cm from aperture: 62.2 +- 11.3 m/s\n",
      "Angular spread 3 cm from aperture: 31.3 deg \n",
      "\n",
      "Theta dist 3 cm from aperture: 92.6 +- 4.7 deg\n",
      "Pumpout time dist 3 cm from aperture: 2.2 +- 0.5 ms \n",
      "\n"
     ]
    },
    {
     "data": {
      "text/plain": [
       "<Figure size 432x288 with 0 Axes>"
      ]
     },
     "metadata": {},
     "output_type": "display_data"
    }
   ],
   "source": [
    "fs.analyzeTrajData(file_ext='f005', folder='Test/FCellTesting2', plots=True)"
   ]
  },
  {
   "cell_type": "markdown",
   "metadata": {},
   "source": [
    "If we now wanted to compare these results against simulations using a different cell geometry, e.g. hourglass-aperture geometry **`h`**, but with the same parameters, we can change the geometry of `simObject` using the method `ParticleTracing.set_flow_type()`, which takes as input the filename `ff` of the DSMC flow field we want to load."
   ]
  },
  {
   "cell_type": "code",
   "execution_count": 6,
   "metadata": {},
   "outputs": [
    {
     "name": "stdout",
     "output_type": "stream",
     "text": [
      "Loading grids ... \n",
      "Interpolating ... Flow field loaded\n"
     ]
    }
   ],
   "source": [
    "simObject.set_flow_type('flows/H_Cell/DS2h005.DAT')"
   ]
  },
  {
   "cell_type": "markdown",
   "metadata": {},
   "source": [
    "This will set `simObj._flowrate=5` and `simObj._geometry='h'`. Here, the helium gas flow field is uploaded from `flows/H_Cell/DS2h005.DAT`, the ouput file of a DSMC simulation that used 5 SCCM flowrate in geometry \"H\" -- the hourglass aperture shown below. With the new flow data loaded, we can again run a parallelized simulation of `NPAR=50` molecules."
   ]
  },
  {
   "attachments": {
    "vxHcp.png": {
     "image/png": "[encoded data removed]"
    }
   },
   "cell_type": "markdown",
   "metadata": {},
   "source": [
    "![vxHcp.png](attachment:vxHcp.png)"
   ]
  },
  {
   "cell_type": "code",
   "execution_count": 7,
   "metadata": {},
   "outputs": [
    {
     "name": "stdout",
     "output_type": "stream",
     "text": [
      "[Parallel(n_jobs=-1)]: Using backend LokyBackend with 4 concurrent workers.\n",
      "[Parallel(n_jobs=-1)]: Done   1 tasks      | elapsed:   12.8s\n",
      "[Parallel(n_jobs=-1)]: Done   2 tasks      | elapsed:   14.6s\n",
      "[Parallel(n_jobs=-1)]: Done   3 tasks      | elapsed:   16.5s\n",
      "[Parallel(n_jobs=-1)]: Done   4 tasks      | elapsed:   18.4s\n",
      "[Parallel(n_jobs=-1)]: Done   5 tasks      | elapsed:   20.3s\n",
      "[Parallel(n_jobs=-1)]: Done   6 tasks      | elapsed:   22.9s\n",
      "[Parallel(n_jobs=-1)]: Done   7 tasks      | elapsed:   31.6s\n",
      "[Parallel(n_jobs=-1)]: Done   8 tasks      | elapsed:   33.8s\n",
      "[Parallel(n_jobs=-1)]: Done   9 tasks      | elapsed:   37.0s\n",
      "[Parallel(n_jobs=-1)]: Done  10 tasks      | elapsed:   40.3s\n",
      "[Parallel(n_jobs=-1)]: Done  11 tasks      | elapsed:   47.2s\n",
      "[Parallel(n_jobs=-1)]: Done  12 tasks      | elapsed:   47.6s\n",
      "[Parallel(n_jobs=-1)]: Done  13 tasks      | elapsed:   49.4s\n",
      "[Parallel(n_jobs=-1)]: Done  14 tasks      | elapsed:   50.2s\n",
      "[Parallel(n_jobs=-1)]: Done  15 tasks      | elapsed:   56.8s\n",
      "[Parallel(n_jobs=-1)]: Done  16 tasks      | elapsed:   58.9s\n",
      "[Parallel(n_jobs=-1)]: Done  17 tasks      | elapsed:  1.0min\n",
      "[Parallel(n_jobs=-1)]: Done  18 tasks      | elapsed:  1.0min\n",
      "[Parallel(n_jobs=-1)]: Done  19 tasks      | elapsed:  1.1min\n",
      "[Parallel(n_jobs=-1)]: Done  20 tasks      | elapsed:  1.3min\n",
      "[Parallel(n_jobs=-1)]: Done  21 tasks      | elapsed:  1.3min\n",
      "[Parallel(n_jobs=-1)]: Done  22 tasks      | elapsed:  1.3min\n",
      "[Parallel(n_jobs=-1)]: Done  23 tasks      | elapsed:  1.3min\n",
      "[Parallel(n_jobs=-1)]: Done  24 tasks      | elapsed:  1.5min\n",
      "[Parallel(n_jobs=-1)]: Done  25 tasks      | elapsed:  1.5min\n",
      "[Parallel(n_jobs=-1)]: Done  26 tasks      | elapsed:  1.5min\n",
      "[Parallel(n_jobs=-1)]: Done  27 tasks      | elapsed:  1.5min\n",
      "[Parallel(n_jobs=-1)]: Done  28 tasks      | elapsed:  1.7min\n",
      "[Parallel(n_jobs=-1)]: Done  29 tasks      | elapsed:  1.7min\n",
      "[Parallel(n_jobs=-1)]: Done  30 tasks      | elapsed:  1.7min\n",
      "[Parallel(n_jobs=-1)]: Done  31 tasks      | elapsed:  1.7min\n",
      "[Parallel(n_jobs=-1)]: Done  32 tasks      | elapsed:  1.8min\n",
      "[Parallel(n_jobs=-1)]: Done  33 tasks      | elapsed:  1.9min\n",
      "[Parallel(n_jobs=-1)]: Done  34 tasks      | elapsed:  1.9min\n",
      "[Parallel(n_jobs=-1)]: Done  35 tasks      | elapsed:  1.9min\n",
      "[Parallel(n_jobs=-1)]: Done  36 tasks      | elapsed:  2.0min\n",
      "[Parallel(n_jobs=-1)]: Done  37 tasks      | elapsed:  2.1min\n",
      "[Parallel(n_jobs=-1)]: Done  38 tasks      | elapsed:  2.1min\n",
      "[Parallel(n_jobs=-1)]: Done  39 tasks      | elapsed:  2.1min\n",
      "[Parallel(n_jobs=-1)]: Done  40 tasks      | elapsed:  2.1min\n",
      "[Parallel(n_jobs=-1)]: Done  41 tasks      | elapsed:  2.2min\n",
      "[Parallel(n_jobs=-1)]: Done  42 tasks      | elapsed:  2.3min\n",
      "[Parallel(n_jobs=-1)]: Done  43 tasks      | elapsed:  2.3min\n",
      "[Parallel(n_jobs=-1)]: Done  45 out of  50 | elapsed:  2.5min remaining:   16.6s\n",
      "[Parallel(n_jobs=-1)]: Done  47 out of  50 | elapsed:  2.6min remaining:    9.7s\n",
      "[Parallel(n_jobs=-1)]: Done  50 out of  50 | elapsed:  2.8min finished\n"
     ]
    }
   ],
   "source": [
    "#Run simulation, store results in outfile2\n",
    "outfile2 = 'Data/outputTest_H.dat'\n",
    "simObject.parallel_main(outfile2); \n",
    "\n",
    "# Now copy/rename to a new file which encodes geometry/flowrate in the filename, \n",
    "# 'Data/outputTest_H.dat'-->'Data/HCellTesting/h005.dat'\n",
    "\n",
    "# e.g.\n",
    "# mkdir Data/HCellTesting\n",
    "# cp Data/outputTest_H.dat Data/HCellTesting/h005.dat"
   ]
  },
  {
   "cell_type": "markdown",
   "metadata": {},
   "source": [
    "We can again look at some statistics for the molecule distribution:"
   ]
  },
  {
   "cell_type": "code",
   "execution_count": 10,
   "metadata": {},
   "outputs": [
    {
     "name": "stdout",
     "output_type": "stream",
     "text": [
      "The aperture is at z = 0.064 m.\n",
      "Analysis of data for z = 0.064 m, equal to -0.00385 m past the aperture:\n",
      "dome_rad is equal to -3.8499999999999943\n",
      "Number of particles: 50\n"
     ]
    },
    {
     "ename": "IndexError",
     "evalue": "index 50 is out of bounds for axis 0 with size 50",
     "output_type": "error",
     "traceback": [
      "\u001b[1;31m---------------------------------------------------------------------------\u001b[0m",
      "\u001b[1;31mIndexError\u001b[0m                                Traceback (most recent call last)",
      "\u001b[1;32m<ipython-input-10-af70038fa44c>\u001b[0m in \u001b[0;36m<module>\u001b[1;34m\u001b[0m\n\u001b[1;32m----> 1\u001b[1;33m \u001b[0mfs\u001b[0m\u001b[1;33m.\u001b[0m\u001b[0manalyzeTrajData\u001b[0m\u001b[1;33m(\u001b[0m\u001b[0mfile_ext\u001b[0m\u001b[1;33m=\u001b[0m\u001b[1;34m'h005'\u001b[0m\u001b[1;33m,\u001b[0m \u001b[0mfolder\u001b[0m\u001b[1;33m=\u001b[0m\u001b[1;34m'HCellTesting'\u001b[0m\u001b[1;33m,\u001b[0m \u001b[0mplots\u001b[0m\u001b[1;33m=\u001b[0m\u001b[1;32mTrue\u001b[0m\u001b[1;33m)\u001b[0m\u001b[1;33m\u001b[0m\u001b[1;33m\u001b[0m\u001b[0m\n\u001b[0m",
      "\u001b[1;32m~\\Dropbox (Hutzler Lab)\\HutzlerLabShared\\Personal\\Yuiki Takahashi\\Yuiki DSMC codes\\MD codes\\New-Yuiki-DSMC\\3Dsim\\fluidSim3D.py\u001b[0m in \u001b[0;36manalyzeTrajData\u001b[1;34m(file_ext, folder, write_file, pos, write, plots, rad_mode, dome_rad, debug, window)\u001b[0m\n\u001b[0;32m    939\u001b[0m                 \u001b[1;31m#debugf.write(' '.join(map(str, [i-1, round(x,3), round(y,3), pos, round(tim,4), j] ) )+' 02\\n')\u001b[0m\u001b[1;33m\u001b[0m\u001b[1;33m\u001b[0m\u001b[1;33m\u001b[0m\u001b[0m\n\u001b[0;32m    940\u001b[0m \u001b[1;33m\u001b[0m\u001b[0m\n\u001b[1;32m--> 941\u001b[1;33m             \u001b[0mfinals\u001b[0m\u001b[1;33m[\u001b[0m\u001b[0mj\u001b[0m\u001b[1;33m]\u001b[0m \u001b[1;33m=\u001b[0m \u001b[0mnp\u001b[0m\u001b[1;33m.\u001b[0m\u001b[0marray\u001b[0m\u001b[1;33m(\u001b[0m\u001b[1;33m[\u001b[0m\u001b[0mx\u001b[0m\u001b[1;33m,\u001b[0m \u001b[0my\u001b[0m\u001b[1;33m,\u001b[0m \u001b[0mpos\u001b[0m\u001b[1;33m,\u001b[0m \u001b[0mvx\u001b[0m\u001b[1;33m,\u001b[0m \u001b[0mvy\u001b[0m\u001b[1;33m,\u001b[0m \u001b[0mvz\u001b[0m\u001b[1;33m,\u001b[0m \u001b[0mtim\u001b[0m\u001b[1;33m,\u001b[0m \u001b[0mr\u001b[0m\u001b[1;33m,\u001b[0m \u001b[0mtheta\u001b[0m\u001b[1;33m]\u001b[0m\u001b[1;33m)\u001b[0m\u001b[1;33m\u001b[0m\u001b[1;33m\u001b[0m\u001b[0m\n\u001b[0m\u001b[0;32m    942\u001b[0m             \u001b[1;31m#finals = np.append(finals, np.array([x, y, pos, vx, vy, vz, tim, r, theta]),axis=0)\u001b[0m\u001b[1;33m\u001b[0m\u001b[1;33m\u001b[0m\u001b[1;33m\u001b[0m\u001b[0m\n\u001b[0;32m    943\u001b[0m \u001b[1;33m\u001b[0m\u001b[0m\n",
      "\u001b[1;31mIndexError\u001b[0m: index 50 is out of bounds for axis 0 with size 50"
     ]
    }
   ],
   "source": [
    "fs.analyzeTrajData(file_ext='h005', folder='HCellTesting', plots=True) "
   ]
  },
  {
   "cell_type": "markdown",
   "metadata": {},
   "source": [
    "Suppose we want to compare the results of a simulation using the corrected probability distribution (which accounts for the bias towards higher relative speeds due to the velocity-dependence of the collision cross section) against results which use the naive Maxwell-Boltzmann distribution."
   ]
  },
  {
   "cell_type": "code",
   "execution_count": 11,
   "metadata": {},
   "outputs": [
    {
     "name": "stdout",
     "output_type": "stream",
     "text": [
      "[Parallel(n_jobs=-1)]: Using backend LokyBackend with 4 concurrent workers.\n",
      "[Parallel(n_jobs=-1)]: Done   1 tasks      | elapsed:   10.6s\n",
      "[Parallel(n_jobs=-1)]: Done   2 tasks      | elapsed:   12.9s\n",
      "[Parallel(n_jobs=-1)]: Done   3 tasks      | elapsed:   16.0s\n",
      "[Parallel(n_jobs=-1)]: Done   4 tasks      | elapsed:   18.3s\n",
      "[Parallel(n_jobs=-1)]: Done   5 tasks      | elapsed:   20.4s\n",
      "[Parallel(n_jobs=-1)]: Done   6 tasks      | elapsed:   21.2s\n",
      "[Parallel(n_jobs=-1)]: Done   7 tasks      | elapsed:   26.2s\n",
      "[Parallel(n_jobs=-1)]: Done   8 tasks      | elapsed:   27.6s\n",
      "[Parallel(n_jobs=-1)]: Done   9 tasks      | elapsed:   28.7s\n",
      "[Parallel(n_jobs=-1)]: Done  10 tasks      | elapsed:   32.4s\n",
      "[Parallel(n_jobs=-1)]: Done  11 tasks      | elapsed:   35.5s\n",
      "[Parallel(n_jobs=-1)]: Done  12 tasks      | elapsed:   37.5s\n",
      "[Parallel(n_jobs=-1)]: Done  13 tasks      | elapsed:   39.1s\n",
      "[Parallel(n_jobs=-1)]: Done  14 tasks      | elapsed:   45.2s\n",
      "[Parallel(n_jobs=-1)]: Done  15 tasks      | elapsed:   45.5s\n",
      "[Parallel(n_jobs=-1)]: Done  16 tasks      | elapsed:   46.8s\n",
      "[Parallel(n_jobs=-1)]: Done  17 tasks      | elapsed:   48.4s\n",
      "[Parallel(n_jobs=-1)]: Done  18 tasks      | elapsed:   55.8s\n",
      "[Parallel(n_jobs=-1)]: Done  19 tasks      | elapsed:   59.5s\n",
      "[Parallel(n_jobs=-1)]: Done  20 tasks      | elapsed:   59.9s\n",
      "[Parallel(n_jobs=-1)]: Done  21 tasks      | elapsed:  1.1min\n",
      "[Parallel(n_jobs=-1)]: Done  22 tasks      | elapsed:  1.1min\n",
      "[Parallel(n_jobs=-1)]: Done  23 tasks      | elapsed:  1.1min\n",
      "[Parallel(n_jobs=-1)]: Done  24 tasks      | elapsed:  1.2min\n",
      "[Parallel(n_jobs=-1)]: Done  25 tasks      | elapsed:  1.3min\n",
      "[Parallel(n_jobs=-1)]: Done  26 tasks      | elapsed:  1.3min\n",
      "[Parallel(n_jobs=-1)]: Done  27 tasks      | elapsed:  1.4min\n",
      "[Parallel(n_jobs=-1)]: Done  28 tasks      | elapsed:  1.4min\n",
      "[Parallel(n_jobs=-1)]: Done  29 tasks      | elapsed:  1.4min\n",
      "[Parallel(n_jobs=-1)]: Done  30 tasks      | elapsed:  1.4min\n",
      "[Parallel(n_jobs=-1)]: Done  31 tasks      | elapsed:  1.5min\n",
      "[Parallel(n_jobs=-1)]: Done  32 tasks      | elapsed:  1.6min\n",
      "[Parallel(n_jobs=-1)]: Done  33 tasks      | elapsed:  1.6min\n",
      "[Parallel(n_jobs=-1)]: Done  34 tasks      | elapsed:  1.6min\n",
      "[Parallel(n_jobs=-1)]: Done  35 tasks      | elapsed:  1.7min\n",
      "[Parallel(n_jobs=-1)]: Done  36 tasks      | elapsed:  1.8min\n",
      "[Parallel(n_jobs=-1)]: Done  37 tasks      | elapsed:  1.8min\n",
      "[Parallel(n_jobs=-1)]: Done  38 tasks      | elapsed:  1.9min\n",
      "[Parallel(n_jobs=-1)]: Done  39 tasks      | elapsed:  1.9min\n",
      "[Parallel(n_jobs=-1)]: Done  40 tasks      | elapsed:  2.0min\n",
      "[Parallel(n_jobs=-1)]: Done  41 tasks      | elapsed:  2.0min\n",
      "[Parallel(n_jobs=-1)]: Done  42 tasks      | elapsed:  2.1min\n",
      "[Parallel(n_jobs=-1)]: Done  43 tasks      | elapsed:  2.1min\n",
      "[Parallel(n_jobs=-1)]: Done  45 out of  50 | elapsed:  2.3min remaining:   15.1s\n",
      "[Parallel(n_jobs=-1)]: Done  47 out of  50 | elapsed:  2.3min remaining:    8.6s\n",
      "[Parallel(n_jobs=-1)]: Done  50 out of  50 | elapsed:  2.5min finished\n"
     ]
    }
   ],
   "source": [
    "simObject.set_sim_params(CORRECTION=True) ##Sets the CORRECTION flag to use the proper PDF\n",
    "\n",
    "outfile_c = 'Data/CorrectedTest.dat'\n",
    "\n",
    "simObject.parallel_main(outfile_c)"
   ]
  },
  {
   "cell_type": "code",
   "execution_count": 15,
   "metadata": {},
   "outputs": [
    {
     "name": "stdout",
     "output_type": "stream",
     "text": [
      "The aperture is at z = 0.064 m.\n",
      "Analysis of data for z = 0.064 m, equal to 0 m past the aperture:\n",
      "dome_rad is equal to 0.0\n",
      "Number of particles: 50\n"
     ]
    },
    {
     "data": {
      "image/png": "[encoded data removed]",
      "text/plain": [
       "<Figure size 432x288 with 1 Axes>"
      ]
     },
     "metadata": {
      "needs_background": "light"
     },
     "output_type": "display_data"
    },
    {
     "name": "stdout",
     "output_type": "stream",
     "text": [
      "numArrived:24, pdata: (24, 9)\n",
      "Number arrived = 24, size of xs = (24,)\n",
      "Median radius 1.21 mm, median theta 90.929 deg\n",
      "1 were useful (2.0%)\n"
     ]
    },
    {
     "data": {
      "text/plain": [
       "<Figure size 432x288 with 0 Axes>"
      ]
     },
     "metadata": {},
     "output_type": "display_data"
    },
    {
     "data": {
      "image/png": "[encoded data removed]",
      "text/plain": [
       "<Figure size 432x288 with 1 Axes>"
      ]
     },
     "metadata": {
      "needs_background": "light"
     },
     "output_type": "display_data"
    },
    {
     "data": {
      "image/png": "[encoded data removed]",
      "text/plain": [
       "<Figure size 432x288 with 1 Axes>"
      ]
     },
     "metadata": {
      "needs_background": "light"
     },
     "output_type": "display_data"
    },
    {
     "data": {
      "image/png": "[encoded data removed]",
      "text/plain": [
       "<Figure size 432x288 with 1 Axes>"
      ]
     },
     "metadata": {
      "needs_background": "light"
     },
     "output_type": "display_data"
    },
    {
     "data": {
      "image/png": "[encoded data removed]",
      "text/plain": [
       "<Figure size 432x288 with 1 Axes>"
      ]
     },
     "metadata": {
      "needs_background": "light"
     },
     "output_type": "display_data"
    },
    {
     "data": {
      "image/png": "[encoded data removed]",
      "text/plain": [
       "<Figure size 432x288 with 1 Axes>"
      ]
     },
     "metadata": {
      "needs_background": "light"
     },
     "output_type": "display_data"
    },
    {
     "data": {
      "image/png": "[encoded data removed]",
      "text/plain": [
       "<Figure size 432x288 with 1 Axes>"
      ]
     },
     "metadata": {
      "needs_background": "light"
     },
     "output_type": "display_data"
    },
    {
     "data": {
      "image/png": "[encoded data removed]",
      "text/plain": [
       "<Figure size 432x288 with 1 Axes>"
      ]
     },
     "metadata": {
      "needs_background": "light"
     },
     "output_type": "display_data"
    },
    {
     "name": "stdout",
     "output_type": "stream",
     "text": [
      "\n",
      "Analysis of data for z = 0.064 m, equal to 0 m past the aperture:\n",
      "24/50 (48.0%) made it to z = 0.064 m.\n",
      "Standard deviation in extraction: 7.1%.\n",
      "Radial velocity 3 cm from aperture: 20.6 +- 12.0 m/s\n",
      "Axial velocity 3 cm from aperture: 65.1 +- 9.9 m/s\n",
      "Angular spread 3 cm from aperture: 35.1 deg \n",
      "\n",
      "Theta dist 3 cm from aperture: 91.1 +- 1.0 deg\n",
      "Pumpout time dist 3 cm from aperture: 2.1 +- 0.5 ms \n",
      "\n"
     ]
    },
    {
     "data": {
      "text/plain": [
       "<Figure size 432x288 with 0 Axes>"
      ]
     },
     "metadata": {},
     "output_type": "display_data"
    }
   ],
   "source": [
    "fs.analyzeTrajData(file_ext='f005', folder='FCellTesting', plots=True)"
   ]
  },
  {
   "cell_type": "code",
   "execution_count": null,
   "metadata": {},
   "outputs": [],
   "source": []
  }
 ],
 "metadata": {
  "kernelspec": {
   "display_name": "Python 3",
   "language": "python",
   "name": "python3"
  },
  "language_info": {
   "codemirror_mode": {
    "name": "ipython",
    "version": 3
   },
   "file_extension": ".py",
   "mimetype": "text/x-python",
   "name": "python",
   "nbconvert_exporter": "python",
   "pygments_lexer": "ipython3",
   "version": "3.7.4"
  }
 },
 "nbformat": 4,
 "nbformat_minor": 2
}
